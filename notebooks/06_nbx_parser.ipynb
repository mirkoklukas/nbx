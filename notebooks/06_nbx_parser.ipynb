{
 "cells": [
  {
   "cell_type": "code",
   "execution_count": null,
   "id": "23e630b4",
   "metadata": {},
   "outputs": [],
   "source": [
    "%%capture\n",
    "%load_ext autoreload\n",
    "%autoreload 2\n",
    "%matplotlib inline"
   ]
  },
  {
   "cell_type": "markdown",
   "id": "5516d0bc",
   "metadata": {},
   "source": [
    "# Parser basics"
   ]
  },
  {
   "cell_type": "code",
   "execution_count": null,
   "id": "e730ede7",
   "metadata": {},
   "outputs": [],
   "source": [
    "#|default_exp nbx_parser\n",
    "#|export\n",
    "from collections import defaultdict\n",
    "\n",
    "\n",
    "class Parser(object):\n",
    "    \"\"\"\n",
    "    For us a parser is a callable with signature\n",
    "    ```\n",
    "        Iterable -> (a, Iterable) or None\n",
    "    ```\n",
    "    where `a` is the parser result. \n",
    "    Bindable functions have the signature \n",
    "    ```\n",
    "        a -> Parser a\n",
    "    ```\n",
    "    \"\"\"\n",
    "    def __init__(self, f = lambda line: (None, line)): \n",
    "        \"\"\"Wraps a fn with signature `line -> (a, line)` into a parser.\"\"\"\n",
    "        self.func = f\n",
    "        \n",
    "        \n",
    "    def __call__(self, line): \n",
    "        return self.func(line)\n",
    "    \n",
    "\n",
    "    def bind(self, f): \n",
    "        \"\"\"Monadic bind. Binds functions `a -> Parser a` to the parser.\"\"\"\n",
    "        def q(line):\n",
    "            \"\"\"The new parser func.\"\"\"\n",
    "            try: b, rest = self(line)\n",
    "            except: return None\n",
    "            return f(b)(rest)\n",
    "        \n",
    "        return Parser(q)\n",
    "    \n",
    "    \n",
    "    def __rshift__(self, f):\n",
    "        \"\"\"Shorthand for 'bind'\"\"\"\n",
    "        return self.bind(f)\n",
    "    \n",
    "    \n",
    "    def __or__(self, q):\n",
    "        \"\"\"Creates a new parser that tries `q` if `self` fails.\"\"\"\n",
    "        def p(line):\n",
    "            try: \n",
    "                a,rest = self(line)\n",
    "                return (a, rest)\n",
    "            except:\n",
    "                return q(line)\n",
    "            \n",
    "        return Parser(p)\n",
    "    \n",
    "    \n",
    "    def __eq__(self, val):\n",
    "        \"\"\"Creates a new parser that checks if result equals a given value.\"\"\"\n",
    "        def check(a, val):\n",
    "            if isinstance(val, dict):\n",
    "                for k, v in val.items(): \n",
    "                    if a[k] != v: return False\n",
    "                return True\n",
    "            else:\n",
    "                return a == val\n",
    "\n",
    "        return self.bind(lambda a: result(a) if check(a, val) else fail)\n",
    "    \n",
    "    \n",
    "    def __ne__(self, val):\n",
    "        \"\"\"Checks if result does not equal a given value.\"\"\"\n",
    "        def check(a, val):\n",
    "            if isinstance(val, dict):\n",
    "                equal = True\n",
    "                for k, v in val.items(): \n",
    "                    if a[k] != v: return True\n",
    "            else:\n",
    "                return a != val\n",
    "\n",
    "        return self.bind(lambda a: result(a) if check(a, val) else fail)\n",
    "    \n",
    "        \n",
    "    def __matmul__(self, key):      \n",
    "        \"\"\"\n",
    "        Returns a bindable function `f(a)` that applies \n",
    "        the parser `self` and updates the given result dict `a` \n",
    "        with `self`'s results.\n",
    "        \"\"\"                \n",
    "        def f(a):\n",
    "            def p(line):\n",
    "                try: b, rest = self(line)\n",
    "                except: return None\n",
    "                if key is None: return (a, rest)\n",
    "                a[key] = b\n",
    "                return (a, rest)\n",
    "            \n",
    "            return p\n",
    "            \n",
    "        return f\n",
    "         \n",
    "\n",
    "# A couple of useful atomic parsers \n",
    "def result(a): return Parser(lambda line: (a, line))\n",
    "fail = Parser(lambda line: None)\n",
    "item = Parser(lambda line: (line[0], line[1:]) if len(line)>0 else None)\n",
    "seed = Parser(lambda line: ({}, line))"
   ]
  },
  {
   "cell_type": "code",
   "execution_count": null,
   "id": "bc833859",
   "metadata": {},
   "outputs": [],
   "source": [
    "#|export\n",
    "def result_or_none(y:\"parser return\"):\n",
    "    \"\"\"Returns None or the parser result (without the rest).\"\"\"\n",
    "    if y is None: return None\n",
    "    else: return y[0]"
   ]
  },
  {
   "cell_type": "code",
   "execution_count": null,
   "id": "ee9d60fb",
   "metadata": {},
   "outputs": [],
   "source": [
    "#|export\n",
    "def seq(p, q): \n",
    "    return p >> (lambda a: (q >> (lambda b: result([a, b]))))\n",
    "\n",
    "def compr(*ps, f = lambda *x: list(x)):\n",
    "    def q(line):\n",
    "        A = []\n",
    "        rest = line\n",
    "        for p in ps:\n",
    "            try: a, rest = p(rest)\n",
    "            except: return None\n",
    "            A.append(a)\n",
    "        return f(*A), rest\n",
    "    return Parser(q)"
   ]
  },
  {
   "cell_type": "code",
   "execution_count": null,
   "id": "fbcde468",
   "metadata": {},
   "outputs": [],
   "source": [
    "p = seq(item, item)\n",
    "line = \"abcd\"\n",
    "assert seq  (item, item)      (line) == (['a', 'b'], 'cd')\n",
    "assert compr(item, item, item)(line) == (['a', 'b', 'c'], 'd')"
   ]
  },
  {
   "cell_type": "code",
   "execution_count": null,
   "id": "84bef96a",
   "metadata": {},
   "outputs": [],
   "source": [
    "#|export\n",
    "def many(q):\n",
    "    \"\"\"Apply `q` ZERO or MORE times.\"\"\"\n",
    "    def wrapper(line):\n",
    "        a = []\n",
    "        def p(line):\n",
    "            if len(line) == 0: return (a, line)\n",
    "            try: b, rest = q(line)\n",
    "            except: return (a, line)\n",
    "            a.append(b)\n",
    "            return p(rest)\n",
    "        \n",
    "        return p(line)\n",
    "    return Parser(wrapper)\n",
    "\n",
    "\n",
    "def many1(q):\n",
    "    \"\"\"Apply `q` ONE or MORE times.\"\"\"\n",
    "    def p(line):\n",
    "        try: a, rest_ = q(line)\n",
    "        except: return None\n",
    "        b, rest = many(q)(rest_)\n",
    "        \n",
    "        return ([a] + b,rest) \n",
    "\n",
    "    return Parser(p)"
   ]
  },
  {
   "cell_type": "code",
   "execution_count": null,
   "id": "47cefef2",
   "metadata": {},
   "outputs": [],
   "source": [
    "q = item == \"a\"\n",
    "assert many(q)(\"aabb\")  == ([\"a\",\"a\"], \"bb\")\n",
    "assert many(q)(\"bb\")    == ([], \"bb\")\n",
    "assert many1(q)(\"aabb\") == many(q)(\"aabb\")\n",
    "assert many1(q)(\"bb\")   == None"
   ]
  },
  {
   "cell_type": "markdown",
   "id": "e9c8b380",
   "metadata": {},
   "source": [
    "# Useful Parsers"
   ]
  },
  {
   "cell_type": "markdown",
   "id": "4e3bdfc4",
   "metadata": {},
   "source": [
    "## Hashtags `#tag`"
   ]
  },
  {
   "cell_type": "code",
   "execution_count": null,
   "id": "35356ff3",
   "metadata": {},
   "outputs": [],
   "source": [
    "#|export\n",
    "import re\n",
    "tag_rx = re.compile(r\"^\\s*#([a-zA-Z_]+)\\s*(.*)$\")\n",
    "\n",
    "@Parser\n",
    "def parse_any_tag(line):\n",
    "    \"\"\"\n",
    "    Splits off a tag (eg. `#MyTAg`) \n",
    "    at the beginning of the line. \n",
    "    \"\"\"\n",
    "    m = tag_rx.match(line)\n",
    "    if m is not None: return m.groups()\n",
    "    else: return None"
   ]
  },
  {
   "cell_type": "code",
   "execution_count": null,
   "id": "2dff411c",
   "metadata": {},
   "outputs": [
    {
     "data": {
      "text/plain": [
       "('hi', 'my name is')"
      ]
     },
     "execution_count": null,
     "metadata": {},
     "output_type": "execute_result"
    }
   ],
   "source": [
    "parse_any_tag(\"#hi my name is\")"
   ]
  },
  {
   "cell_type": "code",
   "execution_count": null,
   "id": "39d5a91f",
   "metadata": {},
   "outputs": [],
   "source": [
    "assert  parse_any_tag(         \"#hi my name is\")  == ('hi', 'my name is')\n",
    "assert (parse_any_tag == \"hi\")(\"#hi  my name is\") == ('hi', 'my name is')\n",
    "assert (parse_any_tag == \"hi\")(\"#hey my name is\") == None"
   ]
  },
  {
   "cell_type": "code",
   "execution_count": null,
   "id": "571c1b81",
   "metadata": {},
   "outputs": [
    {
     "data": {
      "text/plain": [
       "({'tag': 'hi'}, 'my name is')"
      ]
     },
     "execution_count": null,
     "metadata": {},
     "output_type": "execute_result"
    }
   ],
   "source": [
    "#|export\n",
    "def rx_parser(rx):\n",
    "    def p(line):\n",
    "        m = rx.match(line)\n",
    "        if m is not None: \n",
    "            d = m.groupdict()\n",
    "            return (d, d.pop(\"rest\", \"\"))\n",
    "        else: return None\n",
    "        \n",
    "    return Parser(p)\n",
    "        \n",
    "    \n",
    "p = rx_parser(re.compile(r\"^\\s*(#)(?P<tag>[a-zA-Z_]+)\\s*(?P<rest>.*)$\"))\n",
    "p(\"#hi my name is\")"
   ]
  },
  {
   "cell_type": "markdown",
   "id": "c24de39a",
   "metadata": {},
   "source": [
    "## Option flags `--flag`"
   ]
  },
  {
   "cell_type": "code",
   "execution_count": null,
   "id": "48fd8155",
   "metadata": {},
   "outputs": [],
   "source": [
    "#|export\n",
    "import re\n",
    "flagname_rx = re.compile(r\"\\s*(?:[\\-]+)(?P<name>[a-zA-Z_\\-]+)=?(.*)?$\")\n",
    "\n",
    "def parse_flagname(line):\n",
    "    \"\"\"\n",
    "    Splits off the name of a flag iff \n",
    "    there is one at the beginning.\n",
    "    \"\"\"\n",
    "    m = flagname_rx.match(line)\n",
    "    if m is not None: \n",
    "        n,r = m.groups()\n",
    "        if r is None: r = \"\"\n",
    "        return (n,r.lstrip())\n",
    "    else: return None\n",
    "    \n",
    "def starts_with_flag(line): return parse_flagname(line) is not None"
   ]
  },
  {
   "cell_type": "code",
   "execution_count": null,
   "id": "3ffdf481",
   "metadata": {},
   "outputs": [
    {
     "name": "stdout",
     "output_type": "stream",
     "text": [
      "('name', 'mirko')\n",
      "('name', 'mirko')\n",
      "True\n"
     ]
    }
   ],
   "source": [
    "print(parse_flagname(\"  --name mirko\"))\n",
    "print(parse_flagname(\"--name=mirko\"))\n",
    "print(starts_with_flag(\"--name mirko\"))"
   ]
  },
  {
   "cell_type": "code",
   "execution_count": null,
   "id": "2c6fee48",
   "metadata": {},
   "outputs": [],
   "source": [
    "#|export\n",
    "from collections import defaultdict\n",
    "import shlex \n",
    "\n",
    "@Parser\n",
    "def parse_flags(line):\n",
    "    \"\"\"Extracts flag keys and value pairs\"\"\"\n",
    "    d    = dict()\n",
    "    last = None\n",
    "    rest = [] # not a flag-key nor a value \n",
    "    for s in shlex.split(line):\n",
    "        try:\n",
    "            n, v = parse_flagname(s)\n",
    "            v = v.strip()\n",
    "            if v == \"\":\n",
    "                d[n] = None\n",
    "                last = n\n",
    "            else:\n",
    "                d[n] = v\n",
    "                last = None\n",
    "        except: \n",
    "            if last is not None: \n",
    "                d[last] = s\n",
    "                last    = None\n",
    "            else:\n",
    "                rest.append(s)\n",
    "         \n",
    "    return (d, rest)"
   ]
  },
  {
   "cell_type": "code",
   "execution_count": null,
   "id": "e4c257e0",
   "metadata": {},
   "outputs": [
    {
     "data": {
      "text/plain": [
       "({'some-name': 'E', 'something_else': 'D', 'fname': None}, ['#nbx', 'B', 'C'])"
      ]
     },
     "execution_count": null,
     "metadata": {},
     "output_type": "execute_result"
    }
   ],
   "source": [
    "parse_flags('#nbx --some-name=A B C --something_else=D --some-name=E --fname')"
   ]
  },
  {
   "cell_type": "markdown",
   "id": "a64f1148",
   "metadata": {},
   "source": [
    "## Tagged line with flags `#tag  --flags`"
   ]
  },
  {
   "cell_type": "code",
   "execution_count": null,
   "id": "6b9e1fb6",
   "metadata": {},
   "outputs": [],
   "source": [
    "#|export\n",
    "parse_tagged_line = seq(parse_any_tag, parse_flags)"
   ]
  },
  {
   "cell_type": "code",
   "execution_count": null,
   "id": "c601f163",
   "metadata": {},
   "outputs": [
    {
     "data": {
      "text/plain": [
       "('nbx', {'some-name': 'E', 'something_else': 'D', 'fname': None}, ['B', 'C'])"
      ]
     },
     "execution_count": null,
     "metadata": {},
     "output_type": "execute_result"
    }
   ],
   "source": [
    "(tag, flags), rest = parse_tagged_line('#nbx --some-name=A B C --something_else=D --some-name=E --fname')\n",
    "tag, flags, rest"
   ]
  },
  {
   "cell_type": "code",
   "execution_count": null,
   "id": "cb17da74",
   "metadata": {},
   "outputs": [
    {
     "data": {
      "text/plain": [
       "('nbx', {}, ['no', 'flag', 'here'])"
      ]
     },
     "execution_count": null,
     "metadata": {},
     "output_type": "execute_result"
    }
   ],
   "source": [
    "(tag, flags), rest = parse_tagged_line('#nbx no flag here')\n",
    "tag, flags, rest"
   ]
  },
  {
   "cell_type": "markdown",
   "id": "deaf519d",
   "metadata": {},
   "source": [
    "# Notebook parsing and tokenizing"
   ]
  },
  {
   "cell_type": "code",
   "execution_count": null,
   "id": "c411620b",
   "metadata": {},
   "outputs": [],
   "source": [
    "#|export\n",
    "from typing import Union, List, Tuple\n",
    "from nbx.utils import listmap\n",
    "import json\n",
    "from nbx.utils import Bunch, load_nb\n",
    "from pathlib import Path"
   ]
  },
  {
   "cell_type": "code",
   "execution_count": null,
   "id": "378aa08b",
   "metadata": {},
   "outputs": [
    {
     "data": {
      "text/plain": [
       "{'cell_type': 'markdown',\n",
       " 'id': '89c3991f',\n",
       " 'metadata': {},\n",
       " 'source': ['# Test Notebook for `nbx`']}"
      ]
     },
     "execution_count": null,
     "metadata": {},
     "output_type": "execute_result"
    }
   ],
   "source": [
    "nb = load_nb(\"nbx_example/test_notebook.ipynb\")\n",
    "nb.cells[0]"
   ]
  },
  {
   "cell_type": "code",
   "execution_count": null,
   "id": "103a0f9c",
   "metadata": {},
   "outputs": [],
   "source": [
    "#|export \n",
    "is_nbx = parse_any_tag == \"nbx\"\n",
    "\n",
    "def is_nbx_cell(cell):\n",
    "    \"\"\"Checks first of cell source for nbx tag.\"\"\"\n",
    "    if cell['cell_type'] != 'code': return False\n",
    "    if not cell['source']: return False\n",
    "    line0 = cell['source'][0]\n",
    "    return is_nbx(line0)\n",
    "\n",
    "\n",
    "def get_nbx_cells(nb):\n",
    "    return list(filter(is_nbx_cell, nb.cells))\n",
    "\n",
    "\n",
    "def get_nbx_cells_src(nb):\n",
    "    return list(map(lambda c: c[\"source\"] ,filter(is_nbx_cell, nb.cells)))"
   ]
  },
  {
   "cell_type": "markdown",
   "id": "b4db82dd",
   "metadata": {},
   "source": [
    "## Tokenize a cell source"
   ]
  },
  {
   "cell_type": "code",
   "execution_count": null,
   "id": "8092609d",
   "metadata": {},
   "outputs": [],
   "source": [
    "#|export \n",
    "class Line(object):\n",
    "    def __init__(self, src=\"\"):\n",
    "        self.name = None\n",
    "        self.src  = src\n",
    "        \n",
    "    def __eq__(self, other): return self.name == other\n",
    "    def __ne__(self, other): return self.name != other\n",
    "    def __str__(self) : return f\"``{self.src}''\"\n",
    "    def __repr__(self): return f\"{self.__class__.__name__}('{self.src}')\"\n",
    "    \n",
    "    \n",
    "class TaggedLine(Line):\n",
    "    def __init__(self, tag, flags, src = \"\"): \n",
    "        super().__init__(src=src)\n",
    "        self.name  = tag\n",
    "        self.flags = flags\n",
    "        \n",
    "    \n",
    "    def __str__(self): \n",
    "        flags = \"\".join([f\" --{k}=``{v}''\" for k,v in self.flags.items()])\n",
    "        return f\"<{self.name}{flags}/>\"\n",
    "    def __repr__(self): return f\"TaggedLine('{self.name}', '{self.src}')\"\n",
    "    \n",
    "    \n",
    "class EmptyLine(Line): \n",
    "    def __init__(self,): \n",
    "        super().__init__(src=\"\")\n",
    "        self.name = \"empty\"\n",
    "    def __str__(self) : return u\"\\u2205\" # \"empty set\" symbol"
   ]
  },
  {
   "cell_type": "code",
   "execution_count": null,
   "id": "a90ad3b6",
   "metadata": {},
   "outputs": [],
   "source": [
    "#|export \n",
    "def tokenize_src(src, tags=None):\n",
    "    \"\"\"\n",
    "    Converts each line of the src \n",
    "    into their corresponding `Line` object.\n",
    "    \n",
    "    If the `tags` argument is set, only its keys are\n",
    "    considered valid tags when forming tagged lines.\n",
    "    \"\"\"\n",
    "    parsed = []\n",
    "    for line in src:\n",
    "        line = line.rstrip()\n",
    "        try: \n",
    "            (tag, flags), _ = parse_tagged_line(line.rstrip())\n",
    "            if tags is None or tag in tags:\n",
    "                parsed.append(TaggedLine(tag, flags, line))\n",
    "            else:\n",
    "                parsed.append(Line(line))\n",
    "\n",
    "        except: \n",
    "            if line.strip() == \"\": parsed.append(EmptyLine())\n",
    "            else:                  parsed.append(Line(line))\n",
    "            \n",
    "    return parsed"
   ]
  },
  {
   "cell_type": "code",
   "execution_count": null,
   "id": "6c6e5b62",
   "metadata": {},
   "outputs": [
    {
     "name": "stdout",
     "output_type": "stream",
     "text": [
      "<nbx/>\n",
      "<nbx_meta --fname=``test_script.py'' --src=``./src''/>\n",
      "∅\n",
      "``print(\"This message is in the notebook and will be added\")''\n",
      "∅\n",
      "<xarg/>\n",
      "``task_id    = -1;''\n",
      "``result_dir = \"./\";''\n",
      "∅\n",
      "<xarg/>\n",
      "``xtask    = -1;''\n",
      "``xdir = \"./\";''\n"
     ]
    }
   ],
   "source": [
    "nbx_cells = get_nbx_cells(nb)\n",
    "parsed    = tokenize_src(nbx_cells[0][\"source\"])\n",
    "for t in parsed: print(t)"
   ]
  },
  {
   "cell_type": "markdown",
   "id": "4cc37903",
   "metadata": {},
   "source": [
    "## Simple notebook parser"
   ]
  },
  {
   "cell_type": "code",
   "execution_count": null,
   "id": "ce41d3b4",
   "metadata": {},
   "outputs": [],
   "source": [
    "#|export \n",
    "def parse_into_nbx_blocks(nbpath):\n",
    "    nbpath = Path(nbpath)\n",
    "    nb     = load_nb(nbpath)\n",
    "    \n",
    "    pnb = Bunch(path  = str(nbpath),\n",
    "                name  = nbpath.name,\n",
    "                meta  = {},\n",
    "                cells = [], \n",
    "                src   = [])\n",
    "        \n",
    "    nbx_cells = get_nbx_cells(nb)\n",
    "    lines = []\n",
    "    for cell in nbx_cells:\n",
    "        cell_lines = tokenize_src(cell[\"source\"])\n",
    "        lines.extend(cell_lines)\n",
    "        \n",
    "    last_fname = None\n",
    "    blocks = []\n",
    "    for line in lines:\n",
    "        if line == \"nbx\" and \"fname\" in line.flags:\n",
    "            fname = line.flags[\"fname\"]\n",
    "            if fname != last_fname:\n",
    "                blocks.append(Bunch(fname=fname, flags=line.flags, src=[]))\n",
    "                last_fname = fname\n",
    "        blocks[-1][\"src\"].append(line)\n",
    "        \n",
    "    return blocks"
   ]
  },
  {
   "cell_type": "code",
   "execution_count": null,
   "id": "4b94c563",
   "metadata": {},
   "outputs": [
    {
     "name": "stdout",
     "output_type": "stream",
     "text": [
      "\n",
      " <nbx --fname=``_test.jl'' --src=``_src''/> \n",
      "\n",
      "\t ``include(\"src/empty_import.jl\")''\n",
      "\t ``using Plots''\n",
      "\t ∅\n",
      "\t ``plot(1:10)''\n",
      "\t <nbx/>\n",
      "\t ``println(\"This IS going into the first file...\")''\n",
      "\n",
      " <nbx --fname=``_test_2.jl'' --src=``_src''/> \n",
      "\n",
      "\t ∅\n",
      "\t ``println(\"This IS ALSO going in, but into ANOTHER file!\")''\n"
     ]
    }
   ],
   "source": [
    "nbpath = \"nbx_example/julia_test.ipynb\"\n",
    "blocks = parse_into_nbx_blocks(nbpath)\n",
    "for block in blocks:\n",
    "    print(\"\\n\", block.src[0], \"\\n\")\n",
    "    for l in block.src[1:]: print(\"\\t\",l)"
   ]
  },
  {
   "cell_type": "code",
   "execution_count": null,
   "id": "225fbec6",
   "metadata": {},
   "outputs": [],
   "source": [
    "#|export \n",
    "def parse_nbx(nbpath):\n",
    "    nbpath = Path(nbpath)\n",
    "    nb = load_nb(nbpath)\n",
    "\n",
    "    pnb = Bunch(path  = str(nbpath),\n",
    "                name  = nbpath.name,\n",
    "                meta  = {},\n",
    "                cells = [], \n",
    "                src   = [])\n",
    "    \n",
    "    for cell in nb.cells:\n",
    "        parsed = tokenize_src(cell[\"source\"], tags={\"nbx\"})\n",
    "\n",
    "        if len(parsed) > 0 and parsed[0] == \"nbx\": \n",
    "            lines = [line.src for line in parsed]\n",
    "            \n",
    "            (_, flags), _ = parse_tagged_line(lines[0])\n",
    "            pnb.meta.update(flags)\n",
    "\n",
    "            pnb.cells.append(lines[1:])\n",
    "            pnb.src.extend(lines[1:])\n",
    "    return pnb"
   ]
  },
  {
   "cell_type": "code",
   "execution_count": null,
   "id": "fddb6280",
   "metadata": {},
   "outputs": [
    {
     "data": {
      "text/plain": [
       "{'path': 'nbx_example/julia_test.ipynb',\n",
       " 'name': 'julia_test.ipynb',\n",
       " 'meta': {'fname': '_test.jl', 'src': '_src'},\n",
       " 'cells': [['include(\"src/empty_import.jl\")',\n",
       "   'using Plots',\n",
       "   '',\n",
       "   'plot(1:10)']],\n",
       " 'src': ['include(\"src/empty_import.jl\")', 'using Plots', '', 'plot(1:10)']}"
      ]
     },
     "execution_count": null,
     "metadata": {},
     "output_type": "execute_result"
    }
   ],
   "source": [
    "parse_nbx(\"nbx_example/julia_test.ipynb\")"
   ]
  },
  {
   "cell_type": "code",
   "execution_count": null,
   "id": "fa5f5f63",
   "metadata": {},
   "outputs": [],
   "source": [
    "#|export \n",
    "from nbx.utils import nbx_lib\n",
    "from nbx.templ import *\n",
    "import os\n",
    "\n",
    "TEMPLATES = nbx_lib()/\"templates\""
   ]
  },
  {
   "cell_type": "code",
   "execution_count": null,
   "id": "f706c4b8",
   "metadata": {},
   "outputs": [
    {
     "data": {
      "text/plain": [
       "PosixPath('/Users/mirko/Workspace/nbx/nbx/templates')"
      ]
     },
     "execution_count": null,
     "metadata": {},
     "output_type": "execute_result"
    }
   ],
   "source": [
    "TEMPLATES"
   ]
  },
  {
   "cell_type": "code",
   "execution_count": null,
   "id": "0dc82f5d",
   "metadata": {},
   "outputs": [],
   "source": [
    "#|export \n",
    "def create_script(fname, tpl, vdict={}):\n",
    "    \"\"\"Create script from template and value dict\"\"\" \n",
    "    return create_file_from_template(TEMPLATES/tpl, fname, vdict)"
   ]
  },
  {
   "cell_type": "markdown",
   "id": "60c57554",
   "metadata": {},
   "source": [
    "# Julia"
   ]
  },
  {
   "cell_type": "code",
   "execution_count": null,
   "id": "c98845dc",
   "metadata": {},
   "outputs": [],
   "source": [
    "#|export\n",
    "import re\n",
    "include_rx = re.compile(r\"^include\\(\\\"([a-zA-Z0-9_.\\/-]+)\\\"\\)(.*)\")\n",
    "\n",
    "@Parser\n",
    "def parse_jl_include(line):\n",
    "    m = include_rx.match(line)\n",
    "    if m is not None: \n",
    "        file, rest = m.groups()\n",
    "        return (str(Path(file)), rest)\n",
    "    else: return None"
   ]
  },
  {
   "cell_type": "code",
   "execution_count": null,
   "id": "71eefd43",
   "metadata": {},
   "outputs": [],
   "source": [
    "#|export\n",
    "is_jl_include= lambda line: parse_jl_include(line) is not None"
   ]
  },
  {
   "cell_type": "code",
   "execution_count": null,
   "id": "835d09bb",
   "metadata": {},
   "outputs": [],
   "source": [
    "#|export\n",
    "def transform_jl_include(line, src):\n",
    "    if not is_jl_include(line): return line\n",
    "    file, _ = parse_jl_include(line)\n",
    "    new_file = \".\" + file.lstrip(str(src))\n",
    "    new_line = f\"include(\\\"{new_file}\\\")\"\n",
    "    return new_line"
   ]
  },
  {
   "cell_type": "code",
   "execution_count": null,
   "id": "59465242",
   "metadata": {},
   "outputs": [
    {
     "name": "stdout",
     "output_type": "stream",
     "text": [
      "('src/test.jl', '')\n",
      "include(\"./test.jl\")\n"
     ]
    }
   ],
   "source": [
    "line = 'include(\"src/test.jl\")'\n",
    "print(parse_jl_include(line))\n",
    "print(transform_jl_include(line, src=\"src\"))"
   ]
  },
  {
   "cell_type": "code",
   "execution_count": null,
   "id": "db150b48",
   "metadata": {},
   "outputs": [
    {
     "data": {
      "text/plain": [
       "(PosixPath('nbx_example/_src/_test.jl'),\n",
       " ['include(\"./empty_import.jl\")', 'using Plots', '', 'plot(1:10)'])"
      ]
     },
     "execution_count": null,
     "metadata": {},
     "output_type": "execute_result"
    }
   ],
   "source": [
    "#|export\n",
    "def prepare_jl_nb_for_export(notebook_path, target_path=None):\n",
    "    if target_path is None: target_path = Path(notebook_path).parent\n",
    "    pnb   = parse_nbx(notebook_path)\n",
    "    fname = Path(pnb.meta[\"fname\"])\n",
    "    src   = Path(pnb.meta[\"src\"])\n",
    "    \n",
    "    target_path = target_path/src\n",
    "    target_path.mkdir(parents=True, exist_ok=True)\n",
    "    \n",
    "    fname = target_path/fname\n",
    "    \n",
    "    lines = []    \n",
    "    for line in pnb.src:\n",
    "        line = transform_jl_include(line, src)\n",
    "        lines.append(line)\n",
    "                \n",
    "    return fname, lines"
   ]
  },
  {
   "cell_type": "code",
   "execution_count": null,
   "id": "cc9d435d",
   "metadata": {},
   "outputs": [
    {
     "name": "stdout",
     "output_type": "stream",
     "text": [
      "{'fname': '_test.jl', 'src': '_src'}\n",
      "['include(\"src/empty_import.jl\")', 'using Plots', '', 'plot(1:10)']\n",
      "['include(\"./empty_import.jl\")', 'using Plots', '', 'plot(1:10)']\n",
      "nbx_example/_src/_test.jl\n"
     ]
    }
   ],
   "source": [
    "nbpath = \"nbx_example/julia_test.ipynb\"\n",
    "\n",
    "pnb = parse_nbx(nbpath)\n",
    "fname, lines = prepare_jl_nb_for_export(nbpath)\n",
    "\n",
    "print(pnb.meta)\n",
    "print(pnb.src)\n",
    "print(lines)\n",
    "print(fname)"
   ]
  },
  {
   "cell_type": "code",
   "execution_count": null,
   "id": "4a81702c",
   "metadata": {},
   "outputs": [],
   "source": [
    "def create_jl_from_nb(nb_path, target_path=None, tpl=\"nbxlines.tpl\"):\n",
    "    nb_path = Path(nb_path)\n",
    "    if target_path is None: target_path = nb_path.parent\n",
    "    \n",
    "    pnb = parse_nbx(nbpath)\n",
    "    print(pnb.src)\n",
    "    lines = []\n",
    "    \n",
    "    fname = Path(pnb.meta[\"fname\"])\n",
    "    src   = Path(pnb.meta[\"src\"])\n",
    "    target_path = target_path/src\n",
    "    target_path.mkdir(parents=True, exist_ok=True)\n",
    "    fname = target_path/fname\n",
    "    \n",
    "    for line in pnb.src:\n",
    "        line = transform_jl_include(line, src)\n",
    "        lines.append(line)\n",
    "            \n",
    "    print(lines)\n",
    "#     create_script(fname=fname, tpl=tpl, vdict=dict(lines=lines, nbname=pnb.name))\n",
    "    \n",
    "    return fname\n",
    "    "
   ]
  },
  {
   "cell_type": "code",
   "execution_count": null,
   "id": "23dba12d",
   "metadata": {},
   "outputs": [
    {
     "name": "stdout",
     "output_type": "stream",
     "text": [
      "['include(\"src/empty_import.jl\")', 'using Plots', '', 'plot(1:10)']\n",
      "['include(\"./empty_import.jl\")', 'using Plots', '', 'plot(1:10)']\n"
     ]
    },
    {
     "data": {
      "text/plain": [
       "PosixPath('nbx_example/_src/_test.jl')"
      ]
     },
     "execution_count": null,
     "metadata": {},
     "output_type": "execute_result"
    }
   ],
   "source": [
    "nbpath = \"nbx_example/julia_test.ipynb\"\n",
    "create_jl_from_nb(nbpath)"
   ]
  },
  {
   "cell_type": "code",
   "execution_count": null,
   "id": "b26c6863",
   "metadata": {},
   "outputs": [],
   "source": []
  }
 ],
 "metadata": {
  "kernelspec": {
   "display_name": "Python 3 (ipykernel)",
   "language": "python",
   "name": "python3"
  }
 },
 "nbformat": 4,
 "nbformat_minor": 5
}
