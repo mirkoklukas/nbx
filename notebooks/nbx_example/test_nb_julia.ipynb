{
 "cells": [
  {
   "cell_type": "code",
   "execution_count": null,
   "id": "e84cbcb8",
   "metadata": {},
   "outputs": [],
   "source": [
    "#nbx --fname ./_temp/_test.jl\n",
    "include(\"src/empty_import.jl\")\n",
    "using Plots\n",
    "\n",
    "plot(1:10)"
   ]
  },
  {
   "cell_type": "code",
   "execution_count": null,
   "id": "e76ff672",
   "metadata": {},
   "outputs": [
    {
     "name": "stdout",
     "output_type": "stream",
     "text": [
      "this is not going into the file...\n"
     ]
    }
   ],
   "source": [
    "println(\"This is NOT going into the file...\")"
   ]
  },
  {
   "cell_type": "code",
   "execution_count": null,
   "id": "7aaae190",
   "metadata": {},
   "outputs": [
    {
     "name": "stdout",
     "output_type": "stream",
     "text": [
      "This IS going into the first file...\n"
     ]
    }
   ],
   "source": [
    "#nbx\n",
    "println(\"This IS going into the first file...\")"
   ]
  },
  {
   "cell_type": "code",
   "execution_count": null,
   "id": "d6649e33",
   "metadata": {},
   "outputs": [
    {
     "name": "stdout",
     "output_type": "stream",
     "text": [
      "This IS ALSO going in, but into ANOTHER file!\n"
     ]
    }
   ],
   "source": [
    "#nbx --fname _temp/_test_2.jl \n",
    "include(\"src/empty_import.jl\")\n",
    "\n",
    "#some_tag_to_be_parsed -a 1 --b 2  \n",
    "\n",
    "println(\"This IS ALSO going in, but into ANOTHER file!\")"
   ]
  },
  {
   "cell_type": "code",
   "execution_count": null,
   "id": "0fec16b2",
   "metadata": {},
   "outputs": [],
   "source": []
  }
 ],
 "metadata": {
  "kernelspec": {
   "display_name": "Julia 1.8.5",
   "language": "julia",
   "name": "julia-1.8"
  }
 },
 "nbformat": 4,
 "nbformat_minor": 5
}
