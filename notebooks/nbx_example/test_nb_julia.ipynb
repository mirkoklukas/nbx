{
 "cells": [
  {
   "cell_type": "code",
   "execution_count": null,
   "id": "3ddeea7f",
   "metadata": {},
   "outputs": [],
   "source": [
    "#nbx \n",
    "\n",
    "println(\"There is no fname ....\")"
   ]
  },
  {
   "cell_type": "code",
   "execution_count": null,
   "id": "e84cbcb8",
   "metadata": {},
   "outputs": [],
   "source": [
    "#nbx --fname=./_temp/_test.jl\n",
    "include(\"src/empty_import.jl\")\n",
    "using Plots\n",
    "\n",
    "plot(1:10)"
   ]
  },
  {
   "cell_type": "code",
   "execution_count": null,
   "id": "e76ff672",
   "metadata": {},
   "outputs": [
    {
     "name": "stdout",
     "output_type": "stream",
     "text": [
      "this is not going into the file...\n"
     ]
    }
   ],
   "source": [
    "println(\"This is NOT going into the file...\")"
   ]
  },
  {
   "cell_type": "code",
   "execution_count": null,
   "id": "7aaae190",
   "metadata": {},
   "outputs": [
    {
     "name": "stdout",
     "output_type": "stream",
     "text": [
      "This IS going into the first file...\n"
     ]
    }
   ],
   "source": [
    "#nbx\n",
    "println(\"This IS going into the first file...\")"
   ]
  },
  {
   "cell_type": "code",
   "execution_count": null,
   "id": "d6649e33",
   "metadata": {},
   "outputs": [
    {
     "name": "stdout",
     "output_type": "stream",
     "text": [
      "This IS ALSO going in, but into ANOTHER file!\n"
     ]
    }
   ],
   "source": [
    "#nbx --fname=_temp/_test_module.jl  --jl_module=TestModule\n",
    "include(\"src/empty_import.jl\")\n",
    "#some_tag_to_be_parsed -a 1 --b 2  \n",
    "\n",
    "function say_hi()\n",
    "    println(\"Hi.\")\n",
    "end\n",
    "export say_hi\n",
    "\n",
    "println(\"This IS ALSO going in, but into ANOTHER file!\")"
   ]
  },
  {
   "cell_type": "code",
   "execution_count": null,
   "id": "0fec16b2",
   "metadata": {},
   "outputs": [],
   "source": [
    "#nbx\n",
    "function say_bye()\n",
    "    println(\"Bye.\")\n",
    "end\n",
    "export say_bye"
   ]
  },
  {
   "cell_type": "code",
   "execution_count": null,
   "id": "300e3c6c",
   "metadata": {},
   "outputs": [],
   "source": [
    "#nbx --fname=./_temp/_test.jl\n",
    "\n",
    "print(\"Add this to FIST as well\")"
   ]
  }
 ],
 "metadata": {
  "kernelspec": {
   "display_name": "Julia 1.8.5",
   "language": "julia",
   "name": "julia-1.8"
  },
  "language_info": {
   "file_extension": ".jl",
   "mimetype": "application/julia",
   "name": "julia",
   "version": "1.8.5"
  },
  "toc": {
   "base_numbering": 1,
   "nav_menu": {},
   "number_sections": true,
   "sideBar": true,
   "skip_h1_title": false,
   "title_cell": "Table of Contents",
   "title_sidebar": "Contents",
   "toc_cell": false,
   "toc_position": {},
   "toc_section_display": true,
   "toc_window_display": false
  }
 },
 "nbformat": 4,
 "nbformat_minor": 5
}
