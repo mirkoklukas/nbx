{
 "cells": [
  {
   "cell_type": "markdown",
   "id": "89c3991f",
   "metadata": {},
   "source": [
    "# Test Notebook for `nbx`"
   ]
  },
  {
   "cell_type": "code",
   "execution_count": null,
   "id": "94934ce9",
   "metadata": {},
   "outputs": [],
   "source": [
    "%load_ext autoreload\n",
    "%autoreload 2\n",
    "%matplotlib inline"
   ]
  },
  {
   "cell_type": "code",
   "execution_count": null,
   "id": "7ccaf1cb",
   "metadata": {},
   "outputs": [
    {
     "name": "stdout",
     "output_type": "stream",
     "text": [
      "This message is in the notebook and will be added\n"
     ]
    }
   ],
   "source": [
    "#nbx\n",
    "#nbx_meta --fname test_script.py --src ./src\n",
    "\n",
    "print(\"This message is in the notebook and will be added\")\n",
    "\n",
    "#xarg\n",
    "task_id    = -1;\n",
    "result_dir = \"./\";\n",
    "\n",
    "#xarg\n",
    "xtask    = -1;\n",
    "xdir = \"./\";"
   ]
  },
  {
   "cell_type": "code",
   "execution_count": null,
   "id": "bb7b4bb1",
   "metadata": {},
   "outputs": [
    {
     "name": "stdout",
     "output_type": "stream",
     "text": [
      "This message is in the notebook and will be added\n",
      "Cell 1 16\n"
     ]
    }
   ],
   "source": [
    "#nbx\n",
    "#nbx_meta --fname test_script.py --src ./src\n",
    "\n",
    "print(\"This message is in the notebook and will be added\")\n",
    "\n",
    "\n",
    "#ximp\n",
    "import numpy as np\n",
    "\n",
    "#ximp\n",
    "import sys\n",
    "import os\n",
    "\n",
    "def f():\n",
    "    pass\n",
    "\n",
    "#xarg\n",
    "y = 11; # some description\n",
    "yy = 0; np.linspace(0,1.0,2)\n",
    "\n",
    "#xarg\n",
    "z = 2; range(3) # bla bla\n",
    "w_prime = 3 ; [1,2,3]\n",
    "\n",
    "summed = sum([y,z,w_prime])\n",
    "\n",
    "print(\"Cell 1\", summed)"
   ]
  },
  {
   "cell_type": "code",
   "execution_count": null,
   "id": "9bc9382d",
   "metadata": {},
   "outputs": [],
   "source": [
    "#nbx\n",
    "import sys\n",
    "sys.dont_write_bytecode = False\n",
    "from src.other_stuff import INFO\n",
    "print(INFO)\n",
    "summed = summed*0.1 \n",
    "print(\"Cell 2\", summed)\n",
    "\n",
    "#nbx_return \n",
    "summed"
   ]
  },
  {
   "cell_type": "code",
   "execution_count": null,
   "id": "1856cb3f",
   "metadata": {},
   "outputs": [],
   "source": [
    "!rm -r _nbx"
   ]
  },
  {
   "cell_type": "code",
   "execution_count": null,
   "id": "4bf3bd0e",
   "metadata": {},
   "outputs": [],
   "source": [
    "import cgnai.nbx as nbx\n",
    "nbx.create_bundle(\"_nbx\")"
   ]
  },
  {
   "cell_type": "code",
   "execution_count": null,
   "id": "d425c7a9",
   "metadata": {},
   "outputs": [],
   "source": [
    "!bash _nbx/runner.sh"
   ]
  },
  {
   "cell_type": "code",
   "execution_count": null,
   "id": "072fec1d",
   "metadata": {},
   "outputs": [],
   "source": [
    "!python -B _nbx/wrapper.py run"
   ]
  },
  {
   "cell_type": "code",
   "execution_count": null,
   "id": "56262cd7",
   "metadata": {},
   "outputs": [],
   "source": [
    "!python -B _nbx/wrapper.py run --task 0"
   ]
  },
  {
   "cell_type": "code",
   "execution_count": null,
   "id": "6f7b8c3d",
   "metadata": {},
   "outputs": [],
   "source": [
    "!python -B _nbx/wrapper.py run -t 1"
   ]
  },
  {
   "cell_type": "code",
   "execution_count": null,
   "id": "21a8a324",
   "metadata": {},
   "outputs": [],
   "source": [
    "!python -B _nbx/wrapper.py run -i 0"
   ]
  },
  {
   "cell_type": "code",
   "execution_count": null,
   "id": "4d43c43c",
   "metadata": {},
   "outputs": [],
   "source": []
  }
 ],
 "metadata": {
  "kernelspec": {
   "display_name": "Python 3 (ipykernel)",
   "language": "python",
   "name": "python3"
  }
 },
 "nbformat": 4,
 "nbformat_minor": 5
}
