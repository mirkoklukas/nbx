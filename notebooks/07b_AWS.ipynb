{
 "cells": [
  {
   "cell_type": "code",
   "execution_count": 1,
   "id": "e20ff6df",
   "metadata": {},
   "outputs": [
    {
     "data": {
      "text/html": [
       "<style>.rendered_html.text_cell_render {max-width:600px; }</style>"
      ],
      "text/plain": [
       "<IPython.core.display.HTML object>"
      ]
     },
     "metadata": {},
     "output_type": "display_data"
    }
   ],
   "source": [
    "%load_ext autoreload\n",
    "%autoreload 2\n",
    "%matplotlib inline\n",
    "from IPython.display import display, HTML\n",
    "from ipywidgets import interact, FloatSlider, IntSlider, Button, Output \n",
    "display(HTML(\"<style>.rendered_html.text_cell_render {max-width:600px; }</style>\")) "
   ]
  },
  {
   "cell_type": "markdown",
   "id": "a99e44ea",
   "metadata": {},
   "source": [
    "# AWS helper\n",
    "\n",
    "Resourses and useful links:\n",
    "\n",
    " - ..."
   ]
  },
  {
   "cell_type": "code",
   "execution_count": 2,
   "id": "91855279",
   "metadata": {},
   "outputs": [],
   "source": [
    "#|default_exp aws\n",
    "#|export\n",
    "from nbx.utils import run_bash, Bunch\n",
    "from nbx.fileio import load, dump\n",
    "from nbx.cli import add_argparse\n",
    "import os\n",
    "from pathlib import Path\n"
   ]
  },
  {
   "cell_type": "code",
   "execution_count": 3,
   "id": "ddb9e6c1",
   "metadata": {},
   "outputs": [
    {
     "data": {
      "text/plain": [
       "'/Users/mirko/Workspace/nbx/notebooks'"
      ]
     },
     "execution_count": 3,
     "metadata": {},
     "output_type": "execute_result"
    }
   ],
   "source": [
    "os.getcwd()"
   ]
  },
  {
   "cell_type": "code",
   "execution_count": 4,
   "id": "2c697cb3",
   "metadata": {},
   "outputs": [],
   "source": [
    "#|export\n",
    "def _test(public_IP, *, user=\"root\"):\n",
    "    \"\"\"Just for testing.\"\"\"\n",
    "    print(os.getcwd())\n",
    "    \n",
    "test = add_argparse(_test)"
   ]
  },
  {
   "cell_type": "code",
   "execution_count": 5,
   "id": "235fdc30",
   "metadata": {},
   "outputs": [],
   "source": [
    "#|export\n",
    "def _aws_init(public_IP, *, user=\"root\", key):\n",
    "    \"\"\".\"\"\"\n",
    "    fname = Path(\"~/.nbx/aws.json\")\n",
    "    conf = Bunch()\n",
    "    dump(conf, fname)\n",
    "    \n",
    "aws_init = add_argparse(_aws_init)"
   ]
  },
  {
   "cell_type": "code",
   "execution_count": 6,
   "id": "7056406f",
   "metadata": {},
   "outputs": [],
   "source": [
    "#|export\n",
    "import subprocess\n",
    "import sys    \n",
    "\n",
    "SSH_CONFIG_TEMPLATE = \"\"\"\n",
    "Host {host}\n",
    "    User {user}\n",
    "    HostName {ip}\n",
    "    IdentityFile {key}\n",
    "    \n",
    "\"\"\"\n",
    "\n",
    "def _ssh(ip, *, user=None, key=None, port=8888):\n",
    "    \"\"\"ssh-connect to ip address, with an optional username (default is 'ubuntu').\"\"\"\n",
    "    # Need to replace \".\", because I don't want \n",
    "    # `ip` to be a keyword argument\n",
    "    if ip == \".\" or ip == \"...\": ip = None    \n",
    "    func_args = locals()\n",
    "    conf = Bunch(**func_args)\n",
    "        \n",
    "    # Loads default config if there is one\n",
    "    # and update the conf object with data\n",
    "    # from it, but function args have precedence\n",
    "    fname = os.path.expanduser(\"~/.nbx/aws.json\")\n",
    "    fname = Path(fname)\n",
    "    if fname.is_file(): \n",
    "        stored = load(fname)\n",
    "        for k,v in stored.items():\n",
    "            # Function args have precedence\n",
    "            if conf[k] is None: conf[k] = v\n",
    "        \n",
    "    # Check if we got everything we need to\n",
    "    # connect to instance\n",
    "    fail = False\n",
    "    for k in [\"ip\", \"user\", \"key\", \"port\"]:\n",
    "        if conf[k] is None:\n",
    "            fail = True\n",
    "            print(f\"Please provide --{k}\")\n",
    "            \n",
    "    # Save what we already got, and\n",
    "    # proceed if we got everything or return\n",
    "    dump(conf, fname)\n",
    "    if fail: return\n",
    "    \n",
    "    config_str  = SSH_CONFIG_TEMPLATE.format(\n",
    "        host=\"aws\", \n",
    "        user=conf.user, \n",
    "        ip=conf.ip, \n",
    "        key=conf.key\n",
    "    )\n",
    "    print(config_str)\n",
    "    dump(config_str, os.path.expanduser(\"~/.ssh/ec2_config\"), format=\".txt\")\n",
    "    \n",
    "    # We could write some environment vars\n",
    "    # but we can't source them from here\n",
    "    #\n",
    "    #     fname = os.path.expanduser(\"~/.nbx/.bash_aws\")\n",
    "    #     string  = f\"export xaws={conf.user}@{conf.ip};\\n\"\n",
    "    #     dump(string, fname, format=\".txt\")\n",
    "\n",
    "    # Connect to server and forward local port 8888 to remote port 8888\n",
    "    # We can now connect to a remote jupyter notebook server via `http://localhost:8888/`\n",
    "    cmd = f\"ssh -i {conf.key} -L {conf.port}:localhost:{conf.port} {conf.user}@{conf.ip}\"\n",
    "    os.system(f'bash -c \\\"{cmd}\\\"')\n",
    "    \n",
    "    \n",
    "\n",
    "\n",
    "ssh = add_argparse(_ssh)"
   ]
  },
  {
   "cell_type": "code",
   "execution_count": null,
   "id": "eceacbf2",
   "metadata": {},
   "outputs": [],
   "source": [
    "#|export\n",
    "import subprocess\n",
    "import sys    \n",
    "\n",
    "def _scp(sources, target, ip=None, user=None, key=None):\n",
    "    \"\"\"scp...\"\"\"\n",
    "    conf = Bunch(ip=ip,user=user,key=key)\n",
    "                \n",
    "    # Loads default config if there is one\n",
    "    # and update the conf object with data\n",
    "    # from it\n",
    "    fname = os.path.expanduser(\"~/.nbx/aws.json\")\n",
    "    fname = Path(fname)\n",
    "    if fname.is_file(): \n",
    "        stored = load(fname)\n",
    "        for k,v in stored.items():\n",
    "            if v is not None: conf[k] = v\n",
    "        \n",
    "    # Check if we got everything we need to\n",
    "    # connect to instance\n",
    "    fail = False\n",
    "    for k in [\"ip\", \"user\", \"key\"]:\n",
    "        if conf[k] is None:\n",
    "            fail = True\n",
    "            print(f\"Please provide --{k}\")\n",
    "            \n",
    "    # Save what we already got, and\n",
    "    # proceed if we got everything or return\n",
    "    dump(conf, fname)\n",
    "    if fail: return\n",
    "    \n",
    "    \n",
    "    \n",
    "    target = target.replace(\"_rem_\",  f\"{conf.user}@{conf.ip}\")    \n",
    "    target = target.replace(\"_home_\", f\"{conf.user}@{conf.ip}:~\")    \n",
    "    ops = \"\"\n",
    "    if \"_rem_\" not in sources[0] and Path(sources[0]).is_dir():\n",
    "        ops = \"-r\"\n",
    "    for i in range(len(sources)): \n",
    "        sources[i] = sources[i].replace(\"_rem_\",  f\"{conf.user}@{conf.ip}\")\n",
    "        sources[i] = sources[i].replace(\"_home_\", f\"{conf.user}@{conf.ip}:~\")\n",
    "        \n",
    "    print(f\"Copying\")\n",
    "    for source in sources: print(f\"\\t{source}\")\n",
    "    print(f\"to\\n\\t{target}\")\n",
    "\n",
    "    sources = \" \".join(sources)\n",
    "    \n",
    "\n",
    "\n",
    "    # Connect to server and forward local port 8888 to remote port 8888\n",
    "    # We can now connect to a remote jupyter notebook server via `http://localhost:8888/`\n",
    "    cmd = f\"scp -i {conf.key} {ops} {sources} {target}\"\n",
    "\n",
    "    os.system(f'bash -c \\\"{cmd}\\\"')\n",
    "\n",
    "\n",
    "def scp():\n",
    "    sources = sys.argv[1:-1]\n",
    "    target = sys.argv[-1]\n",
    "    _scp(sources, target)\n"
   ]
  },
  {
   "cell_type": "code",
   "execution_count": 11,
   "id": "ad3e0093",
   "metadata": {},
   "outputs": [
    {
     "data": {
      "text/plain": [
       "True"
      ]
     },
     "execution_count": 11,
     "metadata": {},
     "output_type": "execute_result"
    }
   ],
   "source": [
    "Path(\"nbx_example\").is_dir()"
   ]
  },
  {
   "cell_type": "code",
   "execution_count": 13,
   "id": "a2f6efe0",
   "metadata": {},
   "outputs": [],
   "source": [
    "#|export\n",
    "\n",
    "def _tunnel(port):\n",
    "    \"\"\"ssh and tunnel port...\"\"\"\n",
    "    func_args = locals()\n",
    "    conf = Bunch(**func_args)\n",
    "        \n",
    "    # Loads default config if there is one\n",
    "    # and update the conf object with data\n",
    "    # from it, but function args have precedence\n",
    "    fname = os.path.expanduser(\"~/.nbx/aws.json\")\n",
    "    fname = Path(fname)\n",
    "    if fname.is_file(): \n",
    "        stored = load(fname)\n",
    "        for k,v in stored.items():\n",
    "            if k not in conf: conf[k] = v\n",
    "    \n",
    "    # Check if we got everything we need to\n",
    "    # connect to instance\n",
    "    fail = False\n",
    "    for k in [\"ip\", \"user\", \"key\", \"port\"]:\n",
    "        if conf[k] is None:\n",
    "            fail = True\n",
    "            print(f\"Please provide --{k}\")\n",
    "            \n",
    "    if fail: return\n",
    "    \n",
    "    # We could write some environment vars\n",
    "    # but we can't source them from here\n",
    "    #\n",
    "    #     fname = os.path.expanduser(\"~/.nbx/.bash_aws\")\n",
    "    #     string  = f\"export xaws={conf.user}@{conf.ip};\\n\"\n",
    "    #     dump(string, fname, format=\".txt\")\n",
    "\n",
    "    # Connect to server and forward local port 8888 to remote port 8888\n",
    "    # We can now connect to a remote jupyter notebook server via `http://localhost:8888/`\n",
    "    cmd = f\"ssh -i {conf.key} -L {conf.port}:localhost:{conf.port} {conf.user}@{conf.ip}\"\n",
    "    os.system(f'bash -c \\\"{cmd}\\\"')\n",
    "\n",
    "\n",
    "tunnel = add_argparse(_tunnel)"
   ]
  },
  {
   "cell_type": "code",
   "execution_count": null,
   "id": "59ddced8",
   "metadata": {},
   "outputs": [],
   "source": []
  }
 ],
 "metadata": {
  "kernelspec": {
   "display_name": "Python 3 (ipykernel)",
   "language": "python",
   "name": "python3"
  },
  "language_info": {
   "codemirror_mode": {
    "name": "ipython",
    "version": 3
   },
   "file_extension": ".py",
   "mimetype": "text/x-python",
   "name": "python",
   "nbconvert_exporter": "python",
   "pygments_lexer": "ipython3",
   "version": "3.7.12"
  },
  "toc": {
   "base_numbering": 1,
   "nav_menu": {},
   "number_sections": true,
   "sideBar": true,
   "skip_h1_title": false,
   "title_cell": "Table of Contents",
   "title_sidebar": "Contents",
   "toc_cell": false,
   "toc_position": {},
   "toc_section_display": true,
   "toc_window_display": false
  }
 },
 "nbformat": 4,
 "nbformat_minor": 5
}
