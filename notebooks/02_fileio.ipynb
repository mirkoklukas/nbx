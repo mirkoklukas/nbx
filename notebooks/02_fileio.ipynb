{
 "cells": [
  {
   "cell_type": "markdown",
   "id": "e1f75ff3",
   "metadata": {},
   "source": [
    "# File IO\n",
    "\n",
    "> Saving and loading data."
   ]
  },
  {
   "cell_type": "code",
   "execution_count": null,
   "id": "1abf5e6c",
   "metadata": {},
   "outputs": [],
   "source": [
    "%load_ext autoreload\n",
    "%autoreload 2\n",
    "%matplotlib inline"
   ]
  },
  {
   "cell_type": "code",
   "execution_count": null,
   "id": "f8be0e9b",
   "metadata": {},
   "outputs": [],
   "source": [
    "#|default_exp fileio\n",
    "#|export\n",
    "import pathlib\n",
    "import yaml\n",
    "import json\n",
    "import pickle\n",
    "from pathlib import Path\n",
    "from os import walk\n",
    "import numpy as np\n",
    "import csv\n",
    "from nbx.utils import listmap, Bunch\n",
    "Path = pathlib.Path"
   ]
  },
  {
   "cell_type": "code",
   "execution_count": null,
   "id": "958d6a41",
   "metadata": {},
   "outputs": [],
   "source": [
    "#|export\n",
    "def ls_bash(path=\"./\", absolute=False, posix=False):\n",
    "    path = Path(path)\n",
    "    _f = []\n",
    "    _d = []\n",
    "    for (dirpath, dirnames, filenames) in walk(path):\n",
    "        _f.extend(filenames)\n",
    "        _d.extend(dirnames)\n",
    "        break\n",
    "\n",
    "    f = _f\n",
    "    d = _d\n",
    "    \n",
    "    if posix:\n",
    "        f = listmap(Path, _f)\n",
    "        d = listmap(Path, _d)    \n",
    "\n",
    "    return Bunch(path=path, files=sorted(f), dirs=sorted(d), folders=sorted(d))\n",
    "\n",
    "ls = ls_bash"
   ]
  },
  {
   "cell_type": "code",
   "execution_count": null,
   "id": "ff0a8696",
   "metadata": {},
   "outputs": [
    {
     "data": {
      "text/plain": [
       "{'path': PosixPath('.'),\n",
       " 'files': ['.DS_Store',\n",
       "  '.gitattributes',\n",
       "  '00_core.ipynb',\n",
       "  '01_utils.ipynb',\n",
       "  '02_fileio.ipynb',\n",
       "  '03_templ.ipynb',\n",
       "  '04_confspace.ipynb',\n",
       "  '05_nbparser.ipynb',\n",
       "  '_01_logging.ipynb',\n",
       "  '_04_nbparser - original.ipynb',\n",
       "  '_04a_parser.ipynb',\n",
       "  '_04b_nbparser.ipynb',\n",
       "  'index.ipynb'],\n",
       " 'dirs': ['.ipynb_checkpoints', 'nbx_example'],\n",
       " 'folders': ['.ipynb_checkpoints', 'nbx_example']}"
      ]
     },
     "execution_count": null,
     "metadata": {},
     "output_type": "execute_result"
    }
   ],
   "source": [
    "ls_bash(\"./\")"
   ]
  },
  {
   "cell_type": "code",
   "execution_count": null,
   "id": "c884e239",
   "metadata": {},
   "outputs": [],
   "source": [
    "#|export\n",
    "def save(obj, fname):\n",
    "    \"\"\"\n",
    "    Saves an object to a file.\n",
    "    \n",
    "    Supported formats are `.yaml`, `.json`, `.npy`, `.npz`\n",
    "    and everything else will be \"pickled\".\n",
    "    \"\"\"\n",
    "\n",
    "    p = Path(fname)\n",
    "    name   = p.stem\n",
    "    format = p.suffix\n",
    "\n",
    "    if format==\".yaml\":\n",
    "        with open(p, 'w') as f:\n",
    "            yaml.dump(obj, f,\n",
    "                allow_unicode=True,\n",
    "                sort_keys=False,\n",
    "                indent=4,\n",
    "                explicit_start=True)\n",
    "\n",
    "    elif format==\".json\":\n",
    "        with open(p, 'w') as f:\n",
    "            json.dump(obj, f,\n",
    "                        indent=4)\n",
    "\n",
    "    elif format==\".npy\" or format==\".npz\":\n",
    "        np.save(p, obj)\n",
    "\n",
    "    else:\n",
    "        with open(p, 'wb') as f:\n",
    "            pickle.dump(obj, f)"
   ]
  },
  {
   "cell_type": "code",
   "execution_count": null,
   "id": "d1c928fd",
   "metadata": {},
   "outputs": [],
   "source": [
    "#|export\n",
    "def dump(obj, fname): \n",
    "    \"\"\"Dumps an object to file.\"\"\" \n",
    "    return save(obj, fname)"
   ]
  },
  {
   "cell_type": "code",
   "execution_count": null,
   "id": "38196874",
   "metadata": {},
   "outputs": [],
   "source": [
    "#|export\n",
    "def load(fname, format=None):\n",
    "    \n",
    "    p = Path(fname)\n",
    "    name = p.stem\n",
    "    \n",
    "    if format is None:\n",
    "        format = p.suffix\n",
    "            \n",
    "    if format==\".yaml\":\n",
    "        with open(p, 'r') as f:\n",
    "            return yaml.load(f, Loader=yaml.FullLoader)\n",
    "\n",
    "    elif format==\".json\":\n",
    "        with open(p, 'r') as f:\n",
    "            return json.load(f)\n",
    "\n",
    "    elif format==\".npy\" or format==\".npz\":\n",
    "        return np.load(p)\n",
    "\n",
    "    elif format==\".txt\":\n",
    "        with open(p, 'r') as f:\n",
    "            lines = f.read().split('\\n')\n",
    "            return lines\n",
    "    \n",
    "    elif format==\".pkl\":\n",
    "        with open(p, 'rb') as f:\n",
    "            return pickle.load(f)\n",
    "        \n",
    "    elif format==\".tsv\":\n",
    "        with open(p) as f:\n",
    "            X = csv.reader(f, delimiter=\"\\t\", quotechar='\"')\n",
    "            return [x for x in X]\n",
    "    \n",
    "    elif format==\".csv\":\n",
    "        with open(p) as f:\n",
    "            X = csv.reader(f, delimiter=\",\", quotechar='\"')            \n",
    "            return [x for x in X]\n",
    "                \n",
    "    else:\n",
    "        supported = [\".yaml\", \".json\", \".npy\", \".npz\", \".txt\", \".pkl\", \".tsv\", \".csv\"]\n",
    "        raise ValueError(f\"Document type not supported: should be one of the following: \\n\\t{supported}\")\n",
    "        \n",
    "    "
   ]
  },
  {
   "cell_type": "code",
   "execution_count": null,
   "id": "1c9ae394",
   "metadata": {},
   "outputs": [],
   "source": [
    "arr = np.random.rand(10)\n",
    "dump(arr, \"_temp/numpy.npy\")\n",
    "assert np.any(load(\"_temp/numpy.npy\") == arr, None)\n",
    "!rm \"_temp/numpy.npy\""
   ]
  },
  {
   "cell_type": "code",
   "execution_count": null,
   "id": "101ef628",
   "metadata": {},
   "outputs": [],
   "source": [
    "#|export\n",
    "def find_file_upwards(fname):\n",
    "    path = Path.cwd()\n",
    "    while path != path.parent and not (path/fname).exists(): path = path.parent\n",
    "    fname = path/fname\n",
    "    return fname"
   ]
  },
  {
   "cell_type": "code",
   "execution_count": null,
   "id": "ff5661d1",
   "metadata": {},
   "outputs": [],
   "source": []
  },
  {
   "cell_type": "code",
   "execution_count": null,
   "id": "b4b33d1a",
   "metadata": {},
   "outputs": [],
   "source": []
  }
 ],
 "metadata": {
  "kernelspec": {
   "display_name": "Python 3 (ipykernel)",
   "language": "python",
   "name": "python3"
  }
 },
 "nbformat": 4,
 "nbformat_minor": 5
}
