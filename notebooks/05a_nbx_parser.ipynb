{
 "cells": [
  {
   "cell_type": "code",
   "execution_count": 1,
   "id": "23e630b4",
   "metadata": {},
   "outputs": [],
   "source": [
    "%%capture\n",
    "%load_ext autoreload\n",
    "%autoreload 2\n",
    "%matplotlib inline"
   ]
  },
  {
   "cell_type": "markdown",
   "id": "5516d0bc",
   "metadata": {},
   "source": [
    "# Parser basics"
   ]
  },
  {
   "cell_type": "code",
   "execution_count": 2,
   "id": "e730ede7",
   "metadata": {},
   "outputs": [],
   "source": [
    "#|default_exp nbx_parser\n",
    "#|export\n",
    "from collections import defaultdict\n",
    "\n",
    "\n",
    "class Parser(object):\n",
    "    \"\"\"\n",
    "    For us a parser is a callable with signature\n",
    "    ```\n",
    "        Iterable -> (a, Iterable) or None\n",
    "    ```\n",
    "    where `a` is the parser result. \n",
    "    Bindable functions have the signature \n",
    "    ```\n",
    "        a -> Parser a\n",
    "    ```\n",
    "    \"\"\"\n",
    "    def __init__(self, f = lambda line: (None, line)): \n",
    "        \"\"\"Wraps a fn with signature `line -> (a, line)` into a parser.\"\"\"\n",
    "        self.func = f\n",
    "        \n",
    "        \n",
    "    def __call__(self, line): \n",
    "        return self.func(line)\n",
    "    \n",
    "\n",
    "    def bind(self, f): \n",
    "        \"\"\"Monadic bind. Binds functions `a -> Parser a` to the parser.\"\"\"\n",
    "        def q(line):\n",
    "            \"\"\"The new parser func.\"\"\"\n",
    "            try: b, rest = self(line)\n",
    "            except: return None\n",
    "            return f(b)(rest)\n",
    "        \n",
    "        return Parser(q)\n",
    "    \n",
    "    \n",
    "    def __rshift__(self, f):\n",
    "        \"\"\"Shorthand for 'bind'\"\"\"\n",
    "        return self.bind(f)\n",
    "    \n",
    "    \n",
    "    def __or__(self, q):\n",
    "        \"\"\"Creates a new parser that tries `q` if `self` fails.\"\"\"\n",
    "        def p(line):\n",
    "            try: \n",
    "                a,rest = self(line)\n",
    "                return (a, rest)\n",
    "            except:\n",
    "                return q(line)\n",
    "            \n",
    "        return Parser(p)\n",
    "    \n",
    "    \n",
    "    def __eq__(self, val):\n",
    "        \"\"\"Creates a new parser that checks if result equals a given value.\"\"\"\n",
    "        def check(a, val):\n",
    "            if isinstance(val, dict):\n",
    "                for k, v in val.items(): \n",
    "                    if a[k] != v: return False\n",
    "                return True\n",
    "            else:\n",
    "                return a == val\n",
    "\n",
    "        return self.bind(lambda a: result(a) if check(a, val) else fail)\n",
    "    \n",
    "    \n",
    "    def __ne__(self, val):\n",
    "        \"\"\"Checks if result does not equal a given value.\"\"\"\n",
    "        def check(a, val):\n",
    "            if isinstance(val, dict):\n",
    "                equal = True\n",
    "                for k, v in val.items(): \n",
    "                    if a[k] != v: return True\n",
    "            else:\n",
    "                return a != val\n",
    "\n",
    "        return self.bind(lambda a: result(a) if check(a, val) else fail)\n",
    "    \n",
    "        \n",
    "    def __matmul__(self, key):      \n",
    "        \"\"\"\n",
    "        Returns a bindable function `f(a)` that applies \n",
    "        the parser `self` and updates the given result dict `a` \n",
    "        with `self`'s results.\n",
    "        \"\"\"                \n",
    "        def f(a):\n",
    "            def p(line):\n",
    "                try: b, rest = self(line)\n",
    "                except: return None\n",
    "                if key is None: return (a, rest)\n",
    "                a[key] = b\n",
    "                return (a, rest)\n",
    "            \n",
    "            return p\n",
    "            \n",
    "        return f\n",
    "         \n",
    "\n",
    "# A couple of useful atomic parsers \n",
    "def result(a): return Parser(lambda line: (a, line))\n",
    "fail = Parser(lambda line: None)\n",
    "item = Parser(lambda line: (line[0], line[1:]) if len(line)>0 else None)\n",
    "seed = Parser(lambda line: ({}, line))"
   ]
  },
  {
   "cell_type": "code",
   "execution_count": 3,
   "id": "bc833859",
   "metadata": {},
   "outputs": [],
   "source": [
    "#|export\n",
    "def result_or_none(y:\"parser return\"):\n",
    "    \"\"\"Returns None or the parser result (without the rest).\"\"\"\n",
    "    if y is None: return None\n",
    "    else: return y[0]"
   ]
  },
  {
   "cell_type": "code",
   "execution_count": 4,
   "id": "ee9d60fb",
   "metadata": {},
   "outputs": [],
   "source": [
    "#|export\n",
    "def seq(p, q): \n",
    "    return p >> (lambda a: (q >> (lambda b: result([a, b]))))"
   ]
  },
  {
   "cell_type": "code",
   "execution_count": 5,
   "id": "d4ca6b89",
   "metadata": {},
   "outputs": [],
   "source": [
    "#|export\n",
    "def compr(*ps, f = lambda *x: list(x)):\n",
    "    def q(line):\n",
    "        A = []\n",
    "        rest = line\n",
    "        for p in ps:\n",
    "            try: a, rest = p(rest)\n",
    "            except: return None\n",
    "            A.append(a)\n",
    "        return f(*A), rest\n",
    "    return Parser(q)"
   ]
  },
  {
   "cell_type": "code",
   "execution_count": 6,
   "id": "fbcde468",
   "metadata": {},
   "outputs": [],
   "source": [
    "p = seq(item, item)\n",
    "line = \"abcd\"\n",
    "assert seq  (item, item)      (line) == (['a', 'b'], 'cd')\n",
    "assert compr(item, item, item)(line) == (['a', 'b', 'c'], 'd')"
   ]
  },
  {
   "cell_type": "code",
   "execution_count": 7,
   "id": "84bef96a",
   "metadata": {},
   "outputs": [],
   "source": [
    "#|export\n",
    "def many(q):\n",
    "    \"\"\"Apply `q` ZERO or MORE times.\"\"\"\n",
    "    def wrapper(line):\n",
    "        a = []\n",
    "        def p(line):\n",
    "            if len(line) == 0: return (a, line)\n",
    "            try: b, rest = q(line)\n",
    "            except: return (a, line)\n",
    "            a.append(b)\n",
    "            return p(rest)\n",
    "        \n",
    "        return p(line)\n",
    "    return Parser(wrapper)\n",
    "\n",
    "\n",
    "def many1(q):\n",
    "    \"\"\"Apply `q` ONE or MORE times.\"\"\"\n",
    "    def p(line):\n",
    "        try: a, rest_ = q(line)\n",
    "        except: return None\n",
    "        b, rest = many(q)(rest_)\n",
    "        \n",
    "        return ([a] + b,rest) \n",
    "\n",
    "    return Parser(p)"
   ]
  },
  {
   "cell_type": "code",
   "execution_count": 8,
   "id": "47cefef2",
   "metadata": {},
   "outputs": [],
   "source": [
    "q = item == \"a\"\n",
    "assert many(q)(\"aabb\")  == ([\"a\",\"a\"], \"bb\")\n",
    "assert many(q)(\"bb\")    == ([], \"bb\")\n",
    "assert many1(q)(\"aabb\") == many(q)(\"aabb\")\n",
    "assert many1(q)(\"bb\")   == None"
   ]
  },
  {
   "cell_type": "markdown",
   "id": "e9c8b380",
   "metadata": {},
   "source": [
    "# Useful Parsers"
   ]
  },
  {
   "cell_type": "markdown",
   "id": "4e3bdfc4",
   "metadata": {},
   "source": [
    "## Hashtags `#tag`"
   ]
  },
  {
   "cell_type": "code",
   "execution_count": 9,
   "id": "35356ff3",
   "metadata": {},
   "outputs": [],
   "source": [
    "#|export\n",
    "import re\n",
    "tag_rx = re.compile(r\"^\\s*#([a-zA-Z_]+)\\s*(.*)$\")\n",
    "\n",
    "@Parser\n",
    "def parse_any_tag(line):\n",
    "    \"\"\"\n",
    "    Splits off a tag (eg. `#MyTAg`) \n",
    "    at the beginning of the line. \n",
    "    \"\"\"\n",
    "    m = tag_rx.match(line)\n",
    "    if m is not None: return m.groups()\n",
    "    else: return None"
   ]
  },
  {
   "cell_type": "code",
   "execution_count": 10,
   "id": "2dff411c",
   "metadata": {},
   "outputs": [
    {
     "data": {
      "text/plain": [
       "('hi', 'my name is')"
      ]
     },
     "execution_count": 10,
     "metadata": {},
     "output_type": "execute_result"
    }
   ],
   "source": [
    "parse_any_tag(\"#hi my name is\")"
   ]
  },
  {
   "cell_type": "code",
   "execution_count": 11,
   "id": "39d5a91f",
   "metadata": {},
   "outputs": [],
   "source": [
    "assert  parse_any_tag(         \"#hi my name is\") == ('hi', 'my name is')\n",
    "assert (parse_any_tag == \"hi\")(\"#hi my name is\") == ('hi', 'my name is')\n",
    "assert (parse_any_tag == \"hi\")(\"#hey my name is\") == None"
   ]
  },
  {
   "cell_type": "code",
   "execution_count": 12,
   "id": "571c1b81",
   "metadata": {},
   "outputs": [],
   "source": [
    "#|export\n",
    "def rx_parser(rx):\n",
    "    def p(line):\n",
    "        m = rx.match(line)\n",
    "        if m is not None: \n",
    "            d = m.groupdict()\n",
    "            return (d, d.pop(\"rest\", \"\"))\n",
    "        else: return None\n",
    "        \n",
    "    return Parser(p)"
   ]
  },
  {
   "cell_type": "code",
   "execution_count": 13,
   "id": "e6143917",
   "metadata": {},
   "outputs": [
    {
     "data": {
      "text/plain": [
       "({'tag': 'hi'}, 'my name is')"
      ]
     },
     "execution_count": 13,
     "metadata": {},
     "output_type": "execute_result"
    }
   ],
   "source": [
    "p = rx_parser(re.compile(r\"^\\s*(#)(?P<tag>[a-zA-Z_]+)\\s*(?P<rest>.*)$\"))\n",
    "p(\"#hi my name is\")"
   ]
  },
  {
   "cell_type": "markdown",
   "id": "c24de39a",
   "metadata": {},
   "source": [
    "## Options, flags `--flag`"
   ]
  },
  {
   "cell_type": "code",
   "execution_count": 14,
   "id": "48fd8155",
   "metadata": {},
   "outputs": [],
   "source": [
    "#|export\n",
    "import re\n",
    "flagname_rx = re.compile(r\"\\s*(?:[\\-]+)(?P<name>[a-zA-Z_\\-]+)=?(.*)?$\")\n",
    "\n",
    "def parse_flagname(line):\n",
    "    \"\"\"\n",
    "    Splits off the name of a flag iff \n",
    "    there is one at the beginning.\n",
    "    \"\"\"\n",
    "    m = flagname_rx.match(line)\n",
    "    if m is not None: \n",
    "        n,r = m.groups()\n",
    "        if r is None: r = \"\"\n",
    "        return (n,r.lstrip())\n",
    "    else: return None\n",
    "    \n",
    "def starts_with_flag(line): return parse_flagname(line) is not None"
   ]
  },
  {
   "cell_type": "code",
   "execution_count": 15,
   "id": "3ffdf481",
   "metadata": {},
   "outputs": [
    {
     "name": "stdout",
     "output_type": "stream",
     "text": [
      "('name', 'mirko')\n",
      "('name', 'mirko')\n",
      "True\n"
     ]
    }
   ],
   "source": [
    "print(parse_flagname(\"  --name mirko\"))\n",
    "print(parse_flagname(\"--name=mirko\"))\n",
    "print(starts_with_flag(\"--name mirko\"))"
   ]
  },
  {
   "cell_type": "code",
   "execution_count": 16,
   "id": "2c6fee48",
   "metadata": {},
   "outputs": [],
   "source": [
    "#|export\n",
    "from collections import defaultdict\n",
    "import shlex \n",
    "\n",
    "@Parser\n",
    "def parse_flags(line):\n",
    "    \"\"\"Extracts flag keys and value pairs\"\"\"\n",
    "    d    = dict()\n",
    "    last = None\n",
    "    rest = [] # not a flag-key nor a value \n",
    "    for s in shlex.split(line):\n",
    "        try:\n",
    "            n, v = parse_flagname(s)\n",
    "            v = v.strip()\n",
    "            if v == \"\":\n",
    "                d[n] = None\n",
    "                last = n\n",
    "            else:\n",
    "                d[n] = v\n",
    "                last = None\n",
    "        except: \n",
    "            if last is not None: \n",
    "                d[last] = s\n",
    "                last    = None\n",
    "            else:\n",
    "                rest.append(s)\n",
    "         \n",
    "    return (d, rest)\n",
    "\n",
    "\n",
    "parse_tagged_line = seq(parse_any_tag, parse_flags)"
   ]
  },
  {
   "cell_type": "code",
   "execution_count": 17,
   "id": "e4c257e0",
   "metadata": {},
   "outputs": [
    {
     "name": "stdout",
     "output_type": "stream",
     "text": [
      "({'some-name': 'E', 'something_else': 'D', 'fname': None}, ['#nbx', 'B', 'C'])\n",
      "(['nbx', {'some-name': 'E', 'something_else': 'D', 'fname': None}], ['B', 'C'])\n"
     ]
    }
   ],
   "source": [
    "print(parse_flags('#nbx --some-name=A B C --something_else=D --some-name=E --fname'))\n",
    "print(parse_tagged_line('#nbx --some-name=A B C --something_else=D --some-name=E --fname'))"
   ]
  },
  {
   "cell_type": "markdown",
   "id": "deaf519d",
   "metadata": {},
   "source": [
    "# Notebook parsing and tokenizing"
   ]
  },
  {
   "cell_type": "code",
   "execution_count": 18,
   "id": "c411620b",
   "metadata": {},
   "outputs": [],
   "source": [
    "#|export\n",
    "from typing import Union, List, Tuple\n",
    "from nbx.utils import listmap\n",
    "import json\n",
    "from nbx.utils import Bunch, load_nb\n",
    "from pathlib import Path"
   ]
  },
  {
   "cell_type": "code",
   "execution_count": 19,
   "id": "103a0f9c",
   "metadata": {},
   "outputs": [],
   "source": [
    "#|export \n",
    "is_nbx = parse_any_tag == \"nbx\"\n",
    "\n",
    "\n",
    "def is_nbx_cell(cell):\n",
    "    \"\"\"Checks first of cell source for nbx tag.\"\"\"\n",
    "    if cell['cell_type'] != 'code': return False\n",
    "    if not cell['source']: return False\n",
    "    line0 = cell['source'][0]\n",
    "    return is_nbx(line0)\n",
    "\n",
    "\n",
    "def get_nbx_cells(nb):\n",
    "    return list(filter(is_nbx_cell, nb.cells))\n",
    "\n",
    "\n",
    "def get_nbx_cells_src(nb):\n",
    "    return list(map(lambda c: c[\"source\"] ,filter(is_nbx_cell, nb.cells)))"
   ]
  },
  {
   "cell_type": "markdown",
   "id": "b4db82dd",
   "metadata": {},
   "source": [
    "## Tokenize a cell source"
   ]
  },
  {
   "cell_type": "code",
   "execution_count": 20,
   "id": "8092609d",
   "metadata": {},
   "outputs": [],
   "source": [
    "#|export \n",
    "class Line(object):\n",
    "    def __init__(self, src=\"\"):\n",
    "        self.tag = None\n",
    "        self.src  = src\n",
    "        \n",
    "    def __eq__(self, other): return self.tag == other\n",
    "    def __ne__(self, other): return self.tag != other\n",
    "    def __str__(self) : return f\"``{self.src}''\"\n",
    "    def __repr__(self): return f\"{self.__class__.__name__}('{self.src}')\"\n",
    "    \n",
    "    \n",
    "class TaggedLine(Line):\n",
    "    def __init__(self, tag, flags, src = \"\"): \n",
    "        super().__init__(src=src)\n",
    "        self.tag  = tag\n",
    "        self.flags = flags\n",
    "        \n",
    "    def __str__(self): \n",
    "        flags = \"\".join([f\" --{k}=``{v}''\" for k,v in self.flags.items()])\n",
    "        return f\"<{self.tag}{flags}/>\"\n",
    "    \n",
    "    def __repr__(self): return f\"TaggedLine('{self.name}', '{self.src}')\"\n",
    "    \n",
    "    \n",
    "class EmptyLine(Line): \n",
    "    def __init__(self,): \n",
    "        super().__init__(src=\"\")\n",
    "        self.tag = \"empty\"\n",
    "        \n",
    "    def __str__(self) : return u\"\\u2205\" # \"empty set\" symbol"
   ]
  },
  {
   "cell_type": "code",
   "execution_count": 21,
   "id": "a90ad3b6",
   "metadata": {},
   "outputs": [],
   "source": [
    "#|export \n",
    "def tokenize_src(src, tags=None):\n",
    "    \"\"\"\n",
    "    Converts each line of the src \n",
    "    into their corresponding `Line` object.\n",
    "    \n",
    "    If the `tags` argument is set, only its keys are\n",
    "    considered valid tags when forming tagged lines.\n",
    "    \"\"\"\n",
    "    parsed = []\n",
    "    for line in src:\n",
    "        line = line.rstrip()\n",
    "        try: \n",
    "            (tag, flags), _ = parse_tagged_line(line.rstrip())\n",
    "            if tags is None or tag in tags:\n",
    "                parsed.append(TaggedLine(tag, flags, line))\n",
    "            else:\n",
    "                parsed.append(Line(line))\n",
    "\n",
    "        except: \n",
    "            if line.strip() == \"\": parsed.append(EmptyLine())\n",
    "            else:                  parsed.append(Line(line))\n",
    "            \n",
    "    return parsed"
   ]
  },
  {
   "cell_type": "code",
   "execution_count": 22,
   "id": "6c6e5b62",
   "metadata": {},
   "outputs": [
    {
     "name": "stdout",
     "output_type": "stream",
     "text": [
      "<nbx --fname=``test_script.py'' --src=``./src''/>\n",
      "∅\n",
      "``print(\"This message is in the notebook and will be added\")''\n",
      "∅\n",
      "<xarg/>\n",
      "``task_id    = -1;''\n",
      "``result_dir = \"./\";''\n",
      "∅\n",
      "<xarg/>\n",
      "``xtask    = -1;''\n",
      "``xdir = \"./\";''\n"
     ]
    }
   ],
   "source": [
    "nb = load_nb(\"nbx_example/test_nb_python.ipynb\")\n",
    "nbx_cells = get_nbx_cells(nb)\n",
    "parsed = tokenize_src(nbx_cells[0][\"source\"])\n",
    "for t in parsed: print(t)"
   ]
  },
  {
   "cell_type": "markdown",
   "id": "4cc37903",
   "metadata": {},
   "source": [
    "## Simple notebook parser"
   ]
  },
  {
   "cell_type": "code",
   "execution_count": 23,
   "id": "7c94df21",
   "metadata": {},
   "outputs": [],
   "source": [
    "#|export \n",
    "class Block(object):\n",
    "    def __init__(self, fname=None, nbpath=None, src=[], nbx_meta={}):\n",
    "        self.fname  = fname\n",
    "        self.nbpath = nbpath\n",
    "        self.src    = src\n",
    "        self.nbx_meta = nbx_meta\n",
    "        \n",
    "    def __str__(self):\n",
    "        s = f\"<Block fname = \\\"{self.fname}\\\", nbpath= \\\"{self.nbpath}\\\"/>\\n\"\n",
    "        for l in block.src: s+=f\"\\n\\t{l}\"\n",
    "        s += \"\\n\"\n",
    "        return s"
   ]
  },
  {
   "cell_type": "code",
   "execution_count": 24,
   "id": "ce41d3b4",
   "metadata": {},
   "outputs": [],
   "source": [
    "#|export \n",
    "def parse_into_nbx_blocks(nbpath):\n",
    "    \"\"\"\n",
    "    Parses a notebook into \"nbx blocks\", a new block is started when \n",
    "    an nbx line contains a different filename than the last one.\n",
    "    \n",
    "    Typically there is only one block.\n",
    "    \"\"\"\n",
    "    nbpath = Path(nbpath)\n",
    "    nb     = load_nb(nbpath)\n",
    "    nbx_cells = get_nbx_cells(nb)\n",
    "    \n",
    "    # Convert to Line tokens\n",
    "    lines = []\n",
    "    for cell in nbx_cells:\n",
    "        cell_lines = tokenize_src(cell[\"source\"])\n",
    "        lines.extend(cell_lines)\n",
    "        \n",
    "    # Split into nbx blocks, typically just one.\n",
    "    last_fname = None\n",
    "    blocks = []\n",
    "    for line in lines:\n",
    "        if line == \"nbx\" and \"fname\" in line.flags:\n",
    "                fname = line.flags[\"fname\"]\n",
    "                if fname != last_fname:\n",
    "                    blocks.append(Block(fname=fname, nbpath=nbpath, src=[], nbx_meta=line.flags))\n",
    "                    last_fname = fname\n",
    "        blocks[-1].src.append(line)\n",
    "        \n",
    "    return blocks"
   ]
  },
  {
   "cell_type": "code",
   "execution_count": 25,
   "id": "4b94c563",
   "metadata": {},
   "outputs": [
    {
     "name": "stdout",
     "output_type": "stream",
     "text": [
      "<Block fname = \"./_temp/_test.jl\", nbpath= \"nbx_example/test_nb_julia.ipynb\"/>\n",
      "\n",
      "\t<nbx --fname=``./_temp/_test.jl''/>\n",
      "\t``include(\"src/empty_import.jl\")''\n",
      "\t``using Plots''\n",
      "\t∅\n",
      "\t``plot(1:10)''\n",
      "\t<nbx/>\n",
      "\t``println(\"This IS going into the first file...\")''\n",
      "\n",
      "<Block fname = \"_temp/_test_module.jl\", nbpath= \"nbx_example/test_nb_julia.ipynb\"/>\n",
      "\n",
      "\t<nbx --fname=``_temp/_test_module.jl'' --jl_module=``TestModule''/>\n",
      "\t``include(\"src/empty_import.jl\")''\n",
      "\t<some_tag_to_be_parsed --a=``1'' --b=``2''/>\n",
      "\t∅\n",
      "\t``function say_hi()''\n",
      "\t``    println(\"Hi.\")''\n",
      "\t``end''\n",
      "\t``export say_hi''\n",
      "\t∅\n",
      "\t``println(\"This IS ALSO going in, but into ANOTHER file!\")''\n",
      "\t<nbx/>\n",
      "\t``function say_bye()''\n",
      "\t``    println(\"Bye.\")''\n",
      "\t``end''\n",
      "\t``export say_bye''\n",
      "\n",
      "<Block fname = \"./_temp/_test.jl\", nbpath= \"nbx_example/test_nb_julia.ipynb\"/>\n",
      "\n",
      "\t<nbx --fname=``./_temp/_test.jl''/>\n",
      "\t∅\n",
      "\t``print(\"Add this to FIST as well\")''\n",
      "\n"
     ]
    }
   ],
   "source": [
    "nbpath = \"nbx_example/test_nb_julia.ipynb\"\n",
    "blocks = parse_into_nbx_blocks(nbpath)\n",
    "for block in blocks:\n",
    "    print(block)"
   ]
  },
  {
   "cell_type": "code",
   "execution_count": 36,
   "id": "d62cc6a3",
   "metadata": {},
   "outputs": [],
   "source": [
    "#|export \n",
    "def parse_into_nbx_block_dict(nbpath, tags=[\"nbx\"]):\n",
    "    \"\"\"\n",
    "    Parses a notebook into \"nbx blocks\", a new block is started when \n",
    "    an nbx line contains a different filename than the last one.\n",
    "    \n",
    "    Typically there is only one block.\n",
    "    \"\"\"\n",
    "    nbpath = Path(nbpath)\n",
    "    nb     = load_nb(nbpath)\n",
    "    nbx_cells = get_nbx_cells(nb)\n",
    "    \n",
    "    # Convert to Line tokens\n",
    "    lines = []\n",
    "    for cell in nbx_cells:\n",
    "        cell_lines = tokenize_src(cell[\"source\"])\n",
    "        lines.extend(cell_lines)\n",
    "        \n",
    "    # Split into into nbx blocks, \n",
    "    # typically just one.\n",
    "    fname = None\n",
    "    blocks = {}\n",
    "    for line in lines:\n",
    "        if line == \"nbx\":\n",
    "            if \"fname\" in line.flags: fname = line.flags[\"fname\"]\n",
    "            if fname not in blocks: \n",
    "                    blocks[fname] = Block(fname=fname, nbpath=nbpath, src=[], nbx_meta=line.flags)\n",
    "                    \n",
    "\n",
    "        blocks[fname].src.append(line)\n",
    "        \n",
    "    return blocks"
   ]
  },
  {
   "cell_type": "code",
   "execution_count": 40,
   "id": "633056aa",
   "metadata": {},
   "outputs": [
    {
     "name": "stdout",
     "output_type": "stream",
     "text": [
      "[None, './_temp/_test.jl', '_temp/_test_module.jl']\n",
      "True\n",
      "<Block fname = \"None\", nbpath= \"nbx_example/test_nb_julia.ipynb\"/>\n",
      "\n",
      "\t<nbx/>\n",
      "\t∅\n",
      "\t``println(\"There is no fname ....\")''\n",
      "\n",
      "<Block fname = \"./_temp/_test.jl\", nbpath= \"nbx_example/test_nb_julia.ipynb\"/>\n",
      "\n",
      "\t<nbx --fname=``./_temp/_test.jl''/>\n",
      "\t``include(\"src/empty_import.jl\")''\n",
      "\t``using Plots''\n",
      "\t∅\n",
      "\t``plot(1:10)''\n",
      "\t<nbx/>\n",
      "\t``println(\"This IS going into the first file...\")''\n",
      "\t<nbx --fname=``./_temp/_test.jl''/>\n",
      "\t∅\n",
      "\t``print(\"Add this to FIST as well\")''\n",
      "\n",
      "<Block fname = \"_temp/_test_module.jl\", nbpath= \"nbx_example/test_nb_julia.ipynb\"/>\n",
      "\n",
      "\t<nbx --fname=``_temp/_test_module.jl'' --jl_module=``TestModule''/>\n",
      "\t``include(\"src/empty_import.jl\")''\n",
      "\t<some_tag_to_be_parsed --a=``1'' --b=``2''/>\n",
      "\t∅\n",
      "\t``function say_hi()''\n",
      "\t``    println(\"Hi.\")''\n",
      "\t``end''\n",
      "\t``export say_hi''\n",
      "\t∅\n",
      "\t``println(\"This IS ALSO going in, but into ANOTHER file!\")''\n",
      "\t<nbx/>\n",
      "\t``function say_bye()''\n",
      "\t``    println(\"Bye.\")''\n",
      "\t``end''\n",
      "\t``export say_bye''\n",
      "\n"
     ]
    }
   ],
   "source": [
    "nbpath = \"nbx_example/test_nb_julia.ipynb\"\n",
    "blocks = parse_into_nbx_block_dict(nbpath)\n",
    "\n",
    "print(list(blocks.keys()))\n",
    "print(list(blocks.keys())[0] == None)\n",
    "for block in blocks.values():\n",
    "    print(block)"
   ]
  },
  {
   "cell_type": "code",
   "execution_count": 43,
   "id": "fa5f5f63",
   "metadata": {},
   "outputs": [],
   "source": [
    "#|export \n",
    "from nbx.utils import nbx_lib\n",
    "from nbx.templ import *\n",
    "import os\n",
    "\n",
    "TEMPLATES = nbx_lib()/\"templates\"\n",
    "\n",
    "def create_script(fname, tpl, vdict={}):\n",
    "    \"\"\"Create script from template and value dict\"\"\" \n",
    "    return create_file_from_template(TEMPLATES/tpl, fname, vdict)"
   ]
  },
  {
   "cell_type": "code",
   "execution_count": 44,
   "id": "f706c4b8",
   "metadata": {},
   "outputs": [
    {
     "data": {
      "text/plain": [
       "PosixPath('/Users/mirko/Workspace/nbx/nbx/templates')"
      ]
     },
     "execution_count": 44,
     "metadata": {},
     "output_type": "execute_result"
    }
   ],
   "source": [
    "TEMPLATES"
   ]
  },
  {
   "cell_type": "code",
   "execution_count": 45,
   "id": "6e12ab57",
   "metadata": {},
   "outputs": [],
   "source": [
    "#|export\n",
    "def relpath(source, target):\n",
    "    \"\"\"Returns `source`'s path relative to `target`\"\"\"\n",
    "    source = Path(source)\n",
    "    target = Path(target)\n",
    "    cwd = Path(os.getcwd())        \n",
    "    return Path(os.path.relpath(cwd/source, cwd/target))"
   ]
  },
  {
   "cell_type": "code",
   "execution_count": 46,
   "id": "8f403f9f",
   "metadata": {},
   "outputs": [
    {
     "data": {
      "text/plain": [
       "PosixPath('../../nbx/a/b/_include_this_source_file.jl')"
      ]
     },
     "execution_count": 46,
     "metadata": {},
     "output_type": "execute_result"
    }
   ],
   "source": [
    "sp = Path(\"../a/b/_include_this_source_file.jl\")\n",
    "tp = Path(\"../../c/_include_from_here/\")\n",
    "relpath(sp, tp)"
   ]
  },
  {
   "cell_type": "markdown",
   "id": "60c57554",
   "metadata": {},
   "source": [
    "# Julia"
   ]
  },
  {
   "cell_type": "code",
   "execution_count": 47,
   "id": "515112d9",
   "metadata": {},
   "outputs": [],
   "source": [
    "#|export\n",
    "import re\n",
    "export_rx = re.compile(r\"^export\\s+(.+?)(?=\\s*;)(.*)\")\n",
    "\n",
    "@Parser\n",
    "def parse_jl_export(line):\n",
    "    m = export_rx.match(line)\n",
    "    if m is not None: \n",
    "        exports, rest = m.groups()\n",
    "        exports = exports.split(\",\")\n",
    "        exports = [e.strip() for e in exports] \n",
    "        return (exports, rest)\n",
    "    else: return None"
   ]
  },
  {
   "cell_type": "code",
   "execution_count": 48,
   "id": "1854cfb9",
   "metadata": {},
   "outputs": [
    {
     "data": {
      "text/plain": [
       "(['func', 'method'], ' ;  ')"
      ]
     },
     "execution_count": 48,
     "metadata": {},
     "output_type": "execute_result"
    }
   ],
   "source": [
    "line = \"export    func, method ;  \"\n",
    "parse_jl_export(line)"
   ]
  },
  {
   "cell_type": "code",
   "execution_count": 49,
   "id": "c98845dc",
   "metadata": {},
   "outputs": [],
   "source": [
    "#|export\n",
    "import re\n",
    "include_rx = re.compile(r\"^include\\([\\\"\\'\\s]+([^\\)]*)[\\\"\\'\\s]+\\)(.*)\")\n",
    "\n",
    "@Parser\n",
    "def parse_jl_include(line):\n",
    "    m = include_rx.match(line)\n",
    "    if m is not None: \n",
    "        file, rest = m.groups()\n",
    "        return (str(Path(file)), rest)\n",
    "    else: return None"
   ]
  },
  {
   "cell_type": "code",
   "execution_count": 50,
   "id": "ffe3571c",
   "metadata": {},
   "outputs": [
    {
     "name": "stdout",
     "output_type": "stream",
     "text": [
      "('src/test.jl', '')\n",
      "('src/test.jl', '')\n"
     ]
    }
   ],
   "source": [
    "lines = [\n",
    "    'include(\\'src/test.jl\\')', \n",
    "    'include(\"src/test.jl\")'\n",
    "]\n",
    "for line in lines: print(parse_jl_include(line))"
   ]
  },
  {
   "cell_type": "code",
   "execution_count": 51,
   "id": "71eefd43",
   "metadata": {},
   "outputs": [],
   "source": [
    "#|export\n",
    "is_jl_include= lambda line: parse_jl_include(line) is not None"
   ]
  },
  {
   "cell_type": "code",
   "execution_count": 52,
   "id": "835d09bb",
   "metadata": {},
   "outputs": [],
   "source": [
    "#|export\n",
    "def transform_jl_include(line, target, rel):\n",
    "    \"\"\"Replace the include path by relative path from new origin\"\"\"\n",
    "    \n",
    "    if not is_jl_include(line): return line\n",
    "    old, _ = parse_jl_include(line)\n",
    "    file = old\n",
    "    if not os.path.isabs(file):\n",
    "        file = relpath(rel.parent/file, rel.parent/target.parent)\n",
    "        \n",
    "    new_line = f\"include(\\\"{file}\\\"); # autogenerated from: \\\"{old}\\\"\"\n",
    "    return new_line"
   ]
  },
  {
   "cell_type": "code",
   "execution_count": 53,
   "id": "59465242",
   "metadata": {},
   "outputs": [
    {
     "name": "stdout",
     "output_type": "stream",
     "text": [
      "include(\"../nbx_example/src/empty_import.jl\"); # autogenerated from: \"src/empty_import.jl\"\n"
     ]
    }
   ],
   "source": [
    "line = 'include(\"src/empty_import.jl\")'\n",
    "nbpath = Path(\"nbx_example/julia_test.ipynb\")\n",
    "target = Path(\"../_temp/_test.jl\") \n",
    "print(transform_jl_include(line, target, nbpath))"
   ]
  },
  {
   "cell_type": "code",
   "execution_count": 54,
   "id": "d709529b",
   "metadata": {},
   "outputs": [],
   "source": [
    "#|export\n",
    "def nbx_block_to_file(block):\n",
    "    nbpath = Path(block.nbpath)\n",
    "    fname  = Path(block.fname)\n",
    "    (nbpath.parent/fname.parent).mkdir(parents=True, exist_ok=True)\n",
    "    lines = []\n",
    "\n",
    "    for line in block.src:\n",
    "        line.src = transform_jl_include(line.src, fname, nbpath)\n",
    "        lines.append(line)\n",
    "        \n",
    "    # get the actual line src strings and \n",
    "    # replace nbx lines with empty ones\n",
    "    lines = listmap(lambda l: l.src if l!=\"nbx\" else \"\", lines)\n",
    "    \n",
    "    create_script(fname=nbpath.parent/fname, tpl=\"jl_module.tpl\", vdict=dict(lines=lines, nbname=nbpath, **block.nbx_meta))\n",
    "    \n",
    "    return os.path.normpath(nbpath.parent/fname)\n"
   ]
  },
  {
   "cell_type": "code",
   "execution_count": 57,
   "id": "4a81702c",
   "metadata": {},
   "outputs": [],
   "source": [
    "#|export\n",
    "from nbx.cli import add_argparse\n",
    "\n",
    "\n",
    "def _create_jl_from_nb(nb_path):\n",
    "    nbpath = Path(nb_path)\n",
    "    created = []\n",
    "    blocks = parse_into_nbx_block_dict(nbpath)\n",
    "    for fname,block in blocks.items():\n",
    "        if fname is not None:\n",
    "            fname = nbx_block_to_file(block)\n",
    "            created.append(fname)\n",
    "    \n",
    "    print(\"Exported julia-files:\")\n",
    "    for file in created:\n",
    "        print(\">>\", f\"\\\"{file}\\\"\")\n",
    "    \n",
    "    return created   \n",
    "\n",
    "@add_argparse\n",
    "def create_jl_from_nb(nb_path): return _create_jl_from_nb(nb_path)"
   ]
  },
  {
   "cell_type": "code",
   "execution_count": 58,
   "id": "23dba12d",
   "metadata": {},
   "outputs": [
    {
     "name": "stdout",
     "output_type": "stream",
     "text": [
      "Exported julia-files:\n",
      ">> \"nbx_example/_temp/_test.jl\"\n",
      ">> \"nbx_example/_temp/_test_module.jl\"\n"
     ]
    },
    {
     "data": {
      "text/plain": [
       "['nbx_example/_temp/_test.jl', 'nbx_example/_temp/_test_module.jl']"
      ]
     },
     "execution_count": 58,
     "metadata": {},
     "output_type": "execute_result"
    }
   ],
   "source": [
    "nbpath = \"nbx_example/test_nb_julia.ipynb\"\n",
    "created = _create_jl_from_nb(nbpath)\n",
    "created"
   ]
  },
  {
   "cell_type": "code",
   "execution_count": 59,
   "id": "b26c6863",
   "metadata": {},
   "outputs": [],
   "source": [
    "for fname in created:\n",
    "    !subl $fname"
   ]
  },
  {
   "cell_type": "code",
   "execution_count": null,
   "id": "591a3a32",
   "metadata": {},
   "outputs": [],
   "source": []
  }
 ],
 "metadata": {
  "kernelspec": {
   "display_name": "Python 3 (ipykernel)",
   "language": "python",
   "name": "python3"
  },
  "language_info": {
   "codemirror_mode": {
    "name": "ipython",
    "version": 3
   },
   "file_extension": ".py",
   "mimetype": "text/x-python",
   "name": "python",
   "nbconvert_exporter": "python",
   "pygments_lexer": "ipython3",
   "version": "3.7.12"
  },
  "toc": {
   "base_numbering": 1,
   "nav_menu": {},
   "number_sections": true,
   "sideBar": true,
   "skip_h1_title": false,
   "title_cell": "Table of Contents",
   "title_sidebar": "Contents",
   "toc_cell": false,
   "toc_position": {
    "height": "calc(100% - 180px)",
    "left": "10px",
    "top": "150px",
    "width": "325.391px"
   },
   "toc_section_display": true,
   "toc_window_display": true
  }
 },
 "nbformat": 4,
 "nbformat_minor": 5
}
