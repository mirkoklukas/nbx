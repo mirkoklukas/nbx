{
 "cells": [
  {
   "cell_type": "code",
   "execution_count": null,
   "id": "34fd8c81",
   "metadata": {},
   "outputs": [],
   "source": [
    "%load_ext autoreload\n",
    "%autoreload 2\n",
    "%matplotlib inline\n",
    "from IPython.display import display, HTML\n",
    "display(HTML(\"<style>.rendered_html.text_cell_render {max-width:600px; }</style>\"))"
   ]
  },
  {
   "cell_type": "markdown",
   "id": "09163f38",
   "metadata": {},
   "source": [
    "# Template Utilities\n",
    "\n",
    "Resourses and useful links:\n",
    "\n",
    " - ..."
   ]
  },
  {
   "cell_type": "code",
   "execution_count": null,
   "id": "a89f2902",
   "metadata": {},
   "outputs": [],
   "source": [
    "#|default_exp templ\n",
    "#|export\n",
    "from pathlib import Path\n",
    "import jinja2, jinja2.meta as meta\n",
    "\n",
    "\n",
    "def get_templ_args(path):\n",
    "    path = Path(path)\n",
    "    loader = jinja2.FileSystemLoader(searchpath=str(path.parent))\n",
    "    env = jinja2.Environment(loader=loader)\n",
    "\n",
    "    src = env.loader.get_source(env, path.name)[0]\n",
    "    parsed = env.parse(src)\n",
    "    args = meta.find_undeclared_variables(parsed)\n",
    "\n",
    "    return args\n",
    "\n",
    "\n",
    "def render_templ(path, vars):\n",
    "    path = Path(path)\n",
    "    loader = jinja2.FileSystemLoader(searchpath=str(path.parent))\n",
    "    env    = jinja2.Environment(loader=loader)\n",
    "\n",
    "    template = env.get_template(path.name)\n",
    "    text = template.render(vars)  \n",
    "    return text\n",
    "\n",
    "\n",
    "def create_file_from_template(tpath, fpath, vars):\n",
    "    script_src = render_templ(tpath, vars)\n",
    "\n",
    "    with open(fpath, \"w\", newline=\"\\n\") as f:\n",
    "            f.write(script_src)\n",
    "\n",
    "def render_template_from_string(s, vars):\n",
    "    template = jinja2.Environment(loader=jinja2.BaseLoader()).from_string(s)\n",
    "    return template.render(vars)"
   ]
  },
  {
   "cell_type": "code",
   "execution_count": null,
   "id": "692bbd92",
   "metadata": {},
   "outputs": [],
   "source": []
  }
 ],
 "metadata": {
  "kernelspec": {
   "display_name": "Python 3 (ipykernel)",
   "language": "python",
   "name": "python3"
  }
 },
 "nbformat": 4,
 "nbformat_minor": 5
}
