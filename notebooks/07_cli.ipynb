{
 "cells": [
  {
   "cell_type": "code",
   "execution_count": null,
   "id": "e341f9ea",
   "metadata": {},
   "outputs": [
    {
     "data": {
      "text/html": [
       "<style>.rendered_html.text_cell_render {max-width:600px; }</style>"
      ],
      "text/plain": [
       "<IPython.core.display.HTML object>"
      ]
     },
     "metadata": {},
     "output_type": "display_data"
    }
   ],
   "source": [
    "%load_ext autoreload\n",
    "%autoreload 2\n",
    "%matplotlib inline\n",
    "from IPython.display import display, HTML\n",
    "from ipywidgets import interact, FloatSlider, IntSlider, Button, Output \n",
    "display(HTML(\"<style>.rendered_html.text_cell_render {max-width:600px; }</style>\")) "
   ]
  },
  {
   "cell_type": "code",
   "execution_count": null,
   "id": "22fd1039",
   "metadata": {},
   "outputs": [],
   "source": [
    "#|default_exp cli\n",
    "#|export\n",
    "import argparse\n",
    "import inspect\n",
    "\n",
    "def add_argparse(f):\n",
    "    \"\"\"\n",
    "    Decorator that automatically adds an argument parser \n",
    "    from `f`'s signature, so it can be used from the command line.\n",
    "    \"\"\"\n",
    "    parser = argparse.ArgumentParser(description=f.__doc__)\n",
    "    sig = inspect.signature(f)\n",
    "    \n",
    "    for k,v in sig.parameters.items():\n",
    "        # FYI: you get the type annotation\n",
    "        # via `sig.parameters[k].annotation`\n",
    "        \n",
    "        if v.default is inspect.Parameter.empty:\n",
    "            parser.add_argument(k)  \n",
    "        else:\n",
    "            parser.add_argument(f\"-{k}\", f\"--{k}\", \n",
    "                                default=v.default) \n",
    "            \n",
    "    def g():\n",
    "        args = parser.parse_args()\n",
    "        f(**vars(args))\n",
    "        \n",
    "    return g"
   ]
  },
  {
   "cell_type": "code",
   "execution_count": null,
   "id": "7efae762",
   "metadata": {},
   "outputs": [],
   "source": [
    "#|export\n",
    "@add_argparse\n",
    "def test(x, y=2, *, z=3):\n",
    "    \"\"\"A docstring for this test function.\"\"\"\n",
    "    print(x, y, z)"
   ]
  },
  {
   "cell_type": "code",
   "execution_count": null,
   "id": "4366fd2b",
   "metadata": {},
   "outputs": [],
   "source": []
  },
  {
   "cell_type": "code",
   "execution_count": null,
   "id": "4f6c1936",
   "metadata": {},
   "outputs": [],
   "source": []
  }
 ],
 "metadata": {
  "kernelspec": {
   "display_name": "Python 3 (ipykernel)",
   "language": "python",
   "name": "python3"
  }
 },
 "nbformat": 4,
 "nbformat_minor": 5
}
