{
 "cells": [
  {
   "cell_type": "markdown",
   "id": "757ed506",
   "metadata": {},
   "source": [
    "# Utils\n",
    "\n",
    "> Some helper methods and so on ... everything really"
   ]
  },
  {
   "cell_type": "code",
   "execution_count": null,
   "id": "5b31cc04",
   "metadata": {},
   "outputs": [],
   "source": [
    "%load_ext autoreload\n",
    "%autoreload 2\n",
    "%matplotlib inline"
   ]
  },
  {
   "cell_type": "code",
   "execution_count": null,
   "id": "10b14d04",
   "metadata": {},
   "outputs": [],
   "source": [
    "#|default_exp utils\n",
    "#|export\n",
    "from pathlib import Path\n",
    "import logging\n",
    "import sys\n",
    "\n",
    "def get_logger(name   = None, \n",
    "               form   = '[%(name)s] %(message)s', \n",
    "               level  = logging.INFO, \n",
    "               stream = None):\n",
    "    \n",
    "    if name is None: name = __name__\n",
    "    logger = logging.getLogger(name)\n",
    "    logger.setLevel(level)\n",
    "\n",
    "    handler = logging.StreamHandler(stream)    \n",
    "    formatter = logging.Formatter(form)\n",
    "    handler.setFormatter(formatter)\n",
    "    \n",
    "    logger.handlers.clear()\n",
    "    logger.addHandler(handler)\n",
    "    \n",
    "    return logger"
   ]
  },
  {
   "cell_type": "code",
   "execution_count": null,
   "id": "b39f5e2e",
   "metadata": {},
   "outputs": [
    {
     "name": "stderr",
     "output_type": "stream",
     "text": [
      "[NBX.utils] test\n"
     ]
    }
   ],
   "source": [
    "logger = get_logger(\"NBX.utils\")\n",
    "log = logger.info\n",
    "log(\"test\")"
   ]
  },
  {
   "cell_type": "code",
   "execution_count": null,
   "id": "76ea47c7",
   "metadata": {},
   "outputs": [],
   "source": [
    "#|export\n",
    "class Bunch(dict):\n",
    "    def __init__(self, **kwargs):\n",
    "        super().__init__(kwargs)\n",
    "\n",
    "    def __setattr__(self, key, value):\n",
    "        self[key] = value\n",
    "\n",
    "    def __dir__(self):\n",
    "        return self.keys()\n",
    "\n",
    "    def __getattr__(self, key):\n",
    "        try:\n",
    "            return self[key]\n",
    "        except KeyError:\n",
    "            raise AttributeError(key)"
   ]
  },
  {
   "cell_type": "code",
   "execution_count": null,
   "id": "24519220",
   "metadata": {},
   "outputs": [],
   "source": [
    "#|export\n",
    "import nbx\n",
    "\n",
    "def nbx_home():\n",
    "    return Path(nbx.__file__).parents[1]\n",
    "\n",
    "def nbx_lib():\n",
    "    return Path(nbx.__file__).parents[0]"
   ]
  },
  {
   "cell_type": "code",
   "execution_count": null,
   "id": "b15babf0",
   "metadata": {},
   "outputs": [
    {
     "data": {
      "text/plain": [
       "(PosixPath('/Users/mirko/Workspace/nbx'),\n",
       " PosixPath('/Users/mirko/Workspace/nbx/nbx'))"
      ]
     },
     "execution_count": null,
     "metadata": {},
     "output_type": "execute_result"
    }
   ],
   "source": [
    "nbx_home(), nbx_lib()"
   ]
  },
  {
   "cell_type": "code",
   "execution_count": null,
   "id": "9db63f22",
   "metadata": {},
   "outputs": [],
   "source": [
    "#|export\n",
    "import time\n",
    "import datetime\n",
    "\n",
    "def timestamp(form='%Y-%m-%d_%H:%M:%S'):\n",
    "    t = time.time()\n",
    "    return datetime.datetime.fromtimestamp(t).strftime(form)"
   ]
  },
  {
   "cell_type": "code",
   "execution_count": null,
   "id": "ff86b828",
   "metadata": {},
   "outputs": [],
   "source": [
    "#|export\n",
    "import numpy as np\n",
    "from functools import reduce, partial\n",
    "\n",
    "def listmap(f, arr):\n",
    "    return list(map(f,arr))\n",
    "\n",
    "def arrmap(f,arr):\n",
    "    return np.array(listmap(f,arr))\n",
    "\n",
    "def is_list(val):\n",
    "    return hasattr(val, '__iter__') and type(val) != str"
   ]
  },
  {
   "cell_type": "code",
   "execution_count": null,
   "id": "d262a2f7",
   "metadata": {},
   "outputs": [],
   "source": [
    "#|export\n",
    "def bunch_of_lists(list_of_dicts, keys=None):\n",
    "    y = {}    \n",
    "    if keys is None: keys = list_of_dicts[0].keys()\n",
    "    for k in keys: y[k] = arrmap(get(k), list_of_dicts)\n",
    "    return Bunch(**y)"
   ]
  },
  {
   "cell_type": "code",
   "execution_count": null,
   "id": "25707550",
   "metadata": {},
   "outputs": [],
   "source": [
    "#|export\n",
    "def sliding_window_ind(T, n, step, remainder=False):    \n",
    "    if n > T:\n",
    "        if remainder: return [], np.arange(T)\n",
    "        else: return []\n",
    "    \n",
    "    I   = np.tile(np.arange(n)[:,None], T-n+1) + np.arange(T-n+1)[None]\n",
    "    I   = I.T\n",
    "    sub = np.arange(len(I), step=step)\n",
    "    I   = I[sub]\n",
    "    \n",
    "    if remainder:\n",
    "        i = I[-1]\n",
    "        return I, np.arange(i[0] + step, T)\n",
    "    else:\n",
    "        return I"
   ]
  },
  {
   "cell_type": "code",
   "execution_count": null,
   "id": "0308293a",
   "metadata": {},
   "outputs": [
    {
     "name": "stdout",
     "output_type": "stream",
     "text": [
      "(4, 3)\n"
     ]
    },
    {
     "data": {
      "text/plain": [
       "array([[0, 1, 2],\n",
       "       [2, 3, 4],\n",
       "       [4, 5, 6],\n",
       "       [6, 7, 8]])"
      ]
     },
     "execution_count": null,
     "metadata": {},
     "output_type": "execute_result"
    }
   ],
   "source": [
    "w = sliding_window_ind(T=10, n=3, step=2)\n",
    "print(w.shape)\n",
    "w"
   ]
  },
  {
   "cell_type": "code",
   "execution_count": null,
   "id": "00c8120f",
   "metadata": {},
   "outputs": [],
   "source": [
    "#|export\n",
    "import subprocess\n",
    "\n",
    "def run_bash(command):\n",
    "    result = subprocess.run(command, shell=True, stdout=subprocess.PIPE)\n",
    "    result = result.stdout.decode('UTF-8')\n",
    "    return result.rstrip().split(\"\\n\")"
   ]
  },
  {
   "cell_type": "code",
   "execution_count": null,
   "id": "6e42c01b",
   "metadata": {},
   "outputs": [
    {
     "data": {
      "text/plain": [
       "['total 464',\n",
       " 'drwxr-xr-x  18 mirko  staff    576 Mar  4 20:22 .',\n",
       " 'drwxr-xr-x  17 mirko  staff    544 Feb 20 00:25 ..',\n",
       " '-rw-r--r--@  1 mirko  staff   6148 Feb 20 12:29 .DS_Store',\n",
       " '-rw-r--r--   1 mirko  staff     26 Jan  2 13:40 .gitattributes',\n",
       " 'drwxr-xr-x  13 mirko  staff    416 Mar  3 17:44 .ipynb_checkpoints',\n",
       " '-rw-r--r--   1 mirko  staff  12004 Feb 20 12:29 01_utils.ipynb',\n",
       " '-rwxrwxrwx   1 mirko  staff   6866 Feb 20 12:15 02_fileio.ipynb',\n",
       " '-rw-r--r--   1 mirko  staff   2921 Mar  3 17:10 03_templ.ipynb',\n",
       " '-rw-r--r--   1 mirko  staff  14335 Feb 15 14:15 04_confspace.ipynb',\n",
       " '-rw-r--r--   1 mirko  staff  29700 Mar  4 20:22 05a_nbx_parser.ipynb',\n",
       " '-rw-r--r--   1 mirko  staff  44389 Mar  3 17:43 05b_nbparser.ipynb',\n",
       " '-rw-r--r--   1 mirko  staff   2640 Feb 20 14:02 07_cli.ipynb',\n",
       " '-rw-r--r--   1 mirko  staff   2842 Jan 17 11:15 _01_logging.ipynb',\n",
       " '-rw-r--r--   1 mirko  staff  27665 Jan  2 15:52 _04_nbparser - original.ipynb',\n",
       " '-rw-r--r--   1 mirko  staff  28708 Feb 20 14:05 _04b_nbparser.ipynb',\n",
       " '-rw-r--r--   1 mirko  staff  29843 Feb 20 14:06 _06_my_parser-Copy1.ipynb',\n",
       " '-rw-rw-r--   1 mirko  staff   1510 Jan  2 12:11 index.ipynb',\n",
       " 'drwxr-xr-x   8 mirko  staff    256 Mar  3 17:43 nbx_example']"
      ]
     },
     "execution_count": null,
     "metadata": {},
     "output_type": "execute_result"
    }
   ],
   "source": [
    "run_bash(\"ls -all\")"
   ]
  },
  {
   "cell_type": "code",
   "execution_count": null,
   "id": "a385a5ed",
   "metadata": {},
   "outputs": [],
   "source": [
    "#|export\n",
    "import ipynbname\n",
    "\n",
    "def this_nb_to_html(name=\"{nb}\", pre=\"_\", suff=\"\"):\n",
    "    \"\"\"\n",
    "    If called from within a notebook converts this \n",
    "    notebook to html and returns the html file name. \n",
    "    \n",
    "    The html file name can be formated using \n",
    "    the notebook name `nb` and a current time stamp `t`.\n",
    "    \"\"\"\n",
    "    t      = timestamp()\n",
    "    path   = ipynbname.path().parent\n",
    "    name   = ipynbname.name() # nb name\n",
    "    rename = (pre + name + suff).format(nb=name, t=t) # renamed\n",
    "    \n",
    "    a = path/f\"{name}.ipynb\"\n",
    "    b = path/f\"{name}.html\"\n",
    "    c = path/f\"{rename}.html\"\n",
    "\n",
    "    log(f\"...Converting `./{a.name}` to `./{c.name}`.\")\n",
    "    run_bash(f\"jupyter nbconvert {a} --to html \")\n",
    "    run_bash(f\"mv {b} {c}\")\n",
    "    \n",
    "    return c"
   ]
  },
  {
   "cell_type": "code",
   "execution_count": null,
   "id": "50c651fe",
   "metadata": {},
   "outputs": [
    {
     "name": "stderr",
     "output_type": "stream",
     "text": [
      "[NBX.utils] ...Converting `./01_utils.ipynb` to `./_01_utils_[2023-02-06_14:55:06].html`.\n",
      "[NbConvertApp] Converting notebook /Users/mirko/Workspace/nbx/notebooks/01_utils.ipynb to html\n",
      "[NbConvertApp] Writing 614365 bytes to /Users/mirko/Workspace/nbx/notebooks/01_utils.html\n"
     ]
    }
   ],
   "source": [
    "nb = this_nb_to_html(suff=\"_[{t}]\")\n",
    "!open $nb\n",
    "!rm $nb"
   ]
  },
  {
   "cell_type": "code",
   "execution_count": null,
   "id": "f74a524a",
   "metadata": {},
   "outputs": [],
   "source": [
    "#|export\n",
    "import inspect\n",
    "\n",
    "def defaultfrom(c):\n",
    "    \"\"\"\n",
    "    Binds values from context to \n",
    "    default KEYWORD-ONLY (!) arguments.\n",
    "    \"\"\"\n",
    "    def deco(f):\n",
    "        kw = inspect.getfullargspec(f).kwonlyargs\n",
    "        kw_in_c = []\n",
    "        for k in kw:\n",
    "            if k in c: kw_in_c.append(k)\n",
    "\n",
    "\n",
    "        def g(*args, **kwargs):\n",
    "            for k in kw_in_c: \n",
    "                if k not in kwargs: kwargs[k] = c[k]\n",
    "\n",
    "            return f(*args, **kwargs)\n",
    "\n",
    "        \n",
    "        return g\n",
    "    \n",
    "    return deco"
   ]
  },
  {
   "cell_type": "code",
   "execution_count": null,
   "id": "4a0f6087",
   "metadata": {},
   "outputs": [],
   "source": [
    "#|export\n",
    "def default_args(f):\n",
    "    sig = inspect.signature(f)\n",
    "    d = {}\n",
    "    \n",
    "    for k,v in sig.parameters.items():\n",
    "        if v.default is not inspect.Parameter.empty:\n",
    "            d[k] = v.default\n",
    "            \n",
    "    return d\n",
    "\n"
   ]
  },
  {
   "cell_type": "code",
   "execution_count": null,
   "id": "2ff7e91b",
   "metadata": {},
   "outputs": [
    {
     "data": {
      "text/plain": [
       "{'y': 1, 'z': 'two', 'w': None}"
      ]
     },
     "execution_count": null,
     "metadata": {},
     "output_type": "execute_result"
    }
   ],
   "source": [
    "def f(x, y=1, *, z=\"two\", w=None):  return x\n",
    "default_args(f)"
   ]
  },
  {
   "cell_type": "code",
   "execution_count": null,
   "id": "ae0bd0c8",
   "metadata": {},
   "outputs": [],
   "source": [
    "#|export\n",
    "import ipynbname\n",
    "import json\n",
    "def load_nb(fname):\n",
    "    \"\"\"Loads a a ipynotebook-bunch\"\"\" \n",
    "    try:\n",
    "        nbdict = json.loads(fname)\n",
    "    except:\n",
    "        nbdict = json.load(open(fname,'r',encoding=\"utf-8\"))\n",
    "        \n",
    "    nbdict[\"fname\"] = str(fname)\n",
    "    return Bunch(**nbdict)"
   ]
  },
  {
   "cell_type": "code",
   "execution_count": null,
   "id": "e7693bd6",
   "metadata": {},
   "outputs": [
    {
     "data": {
      "text/plain": [
       "{'cell_type': 'markdown',\n",
       " 'id': '89c3991f',\n",
       " 'metadata': {},\n",
       " 'source': ['# Test Notebook for `nbx`']}"
      ]
     },
     "execution_count": null,
     "metadata": {},
     "output_type": "execute_result"
    }
   ],
   "source": [
    "nb = load_nb(\"nbx_example/test_notebook.ipynb\")\n",
    "nb.cells[0]"
   ]
  },
  {
   "cell_type": "code",
   "execution_count": null,
   "id": "53b9a774",
   "metadata": {},
   "outputs": [
    {
     "data": {
      "text/plain": [
       "(PosixPath('/Users/mirko/Workspace/nbx/notebooks/01_utils.ipynb'), '01_utils')"
      ]
     },
     "execution_count": null,
     "metadata": {},
     "output_type": "execute_result"
    }
   ],
   "source": [
    "import ipynbname\n",
    "ipynbname.path(), ipynbname.name()"
   ]
  },
  {
   "cell_type": "code",
   "execution_count": null,
   "id": "4414aa56",
   "metadata": {},
   "outputs": [],
   "source": []
  }
 ],
 "metadata": {
  "kernelspec": {
   "display_name": "Python 3 (ipykernel)",
   "language": "python",
   "name": "python3"
  },
  "language_info": {
   "codemirror_mode": {
    "name": "ipython",
    "version": 3
   },
   "file_extension": ".py",
   "mimetype": "text/x-python",
   "name": "python",
   "nbconvert_exporter": "python",
   "pygments_lexer": "ipython3",
   "version": "3.7.12"
  },
  "toc": {
   "base_numbering": 1,
   "nav_menu": {},
   "number_sections": true,
   "sideBar": true,
   "skip_h1_title": false,
   "title_cell": "Table of Contents",
   "title_sidebar": "Contents",
   "toc_cell": false,
   "toc_position": {},
   "toc_section_display": true,
   "toc_window_display": false
  }
 },
 "nbformat": 4,
 "nbformat_minor": 5
}
